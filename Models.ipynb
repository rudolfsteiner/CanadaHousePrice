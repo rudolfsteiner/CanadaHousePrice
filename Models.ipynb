{
 "cells": [
  {
   "cell_type": "code",
   "execution_count": 1,
   "metadata": {},
   "outputs": [
    {
     "name": "stderr",
     "output_type": "stream",
     "text": [
      "/home/tiger/anaconda3/lib/python3.6/site-packages/sklearn/cross_validation.py:41: DeprecationWarning: This module was deprecated in version 0.18 in favor of the model_selection module into which all the refactored classes and functions are moved. Also note that the interface of the new CV iterators are different from that of this module. This module will be removed in 0.20.\n",
      "  \"This module will be removed in 0.20.\", DeprecationWarning)\n"
     ]
    }
   ],
   "source": [
    "import numpy as np\n",
    "import pandas as pd\n",
    "import timeit\n",
    "import math\n",
    "\n",
    "#from sklearn import svm\n",
    "import matplotlib.pyplot as plt\n",
    "from sklearn.neighbors import KNeighborsRegressor\n",
    "from sklearn.linear_model import LinearRegression, LogisticRegression\n",
    "from sklearn.svm import SVR\n",
    "from sklearn.metrics import r2_score, mean_squared_error, mean_absolute_error\n",
    "from sklearn.cross_validation import train_test_split\n",
    "from sklearn.ensemble import RandomForestRegressor, GradientBoostingRegressor, AdaBoostRegressor, BaggingRegressor\n",
    "from sklearn import model_selection\n",
    "from sklearn.tree import DecisionTreeRegressor"
   ]
  },
  {
   "cell_type": "code",
   "execution_count": 2,
   "metadata": {
    "collapsed": true
   },
   "outputs": [],
   "source": [
    "df_train = pd.read_csv(\"./data/mls_train.csv\", dtype = float)\n",
    "df_dev = pd.read_csv(\"./data/mls_dev.csv\", dtype = float)\n",
    "df_test = pd.read_csv(\"./data/mls_test.csv\", dtype = float)"
   ]
  },
  {
   "cell_type": "code",
   "execution_count": 3,
   "metadata": {},
   "outputs": [
    {
     "data": {
      "text/html": [
       "<div>\n",
       "<style>\n",
       "    .dataframe thead tr:only-child th {\n",
       "        text-align: right;\n",
       "    }\n",
       "\n",
       "    .dataframe thead th {\n",
       "        text-align: left;\n",
       "    }\n",
       "\n",
       "    .dataframe tbody tr th {\n",
       "        vertical-align: top;\n",
       "    }\n",
       "</style>\n",
       "<table border=\"1\" class=\"dataframe\">\n",
       "  <thead>\n",
       "    <tr style=\"text-align: right;\">\n",
       "      <th></th>\n",
       "      <th>Bedrms</th>\n",
       "      <th>Sold Price</th>\n",
       "      <th>Baths Full</th>\n",
       "      <th>List Price</th>\n",
       "      <th>Tax Amount</th>\n",
       "      <th>Total Parking</th>\n",
       "      <th>Yr Built</th>\n",
       "      <th>Tot Flr Area AG Metres</th>\n",
       "      <th>Baths Half</th>\n",
       "      <th>Median assessed value</th>\n",
       "      <th>...</th>\n",
       "      <th>Building_Single Wide</th>\n",
       "      <th>Construction_Brick</th>\n",
       "      <th>Construction_Concrete</th>\n",
       "      <th>Construction_Concrete Block</th>\n",
       "      <th>Construction_Concrete Insulated</th>\n",
       "      <th>Construction_Log</th>\n",
       "      <th>Construction_Modular</th>\n",
       "      <th>Construction_Prefab</th>\n",
       "      <th>Construction_Steel Frame</th>\n",
       "      <th>Construction_Wood Frame</th>\n",
       "    </tr>\n",
       "  </thead>\n",
       "  <tbody>\n",
       "    <tr>\n",
       "      <th>0</th>\n",
       "      <td>3.0</td>\n",
       "      <td>445000.0</td>\n",
       "      <td>2.0</td>\n",
       "      <td>445000.0</td>\n",
       "      <td>2250.0</td>\n",
       "      <td>2.0</td>\n",
       "      <td>2004.0</td>\n",
       "      <td>122.00</td>\n",
       "      <td>1.0</td>\n",
       "      <td>517000.0</td>\n",
       "      <td>...</td>\n",
       "      <td>0.0</td>\n",
       "      <td>0.0</td>\n",
       "      <td>0.0</td>\n",
       "      <td>0.0</td>\n",
       "      <td>0.0</td>\n",
       "      <td>0.0</td>\n",
       "      <td>0.0</td>\n",
       "      <td>0.0</td>\n",
       "      <td>0.0</td>\n",
       "      <td>1.0</td>\n",
       "    </tr>\n",
       "    <tr>\n",
       "      <th>1</th>\n",
       "      <td>4.0</td>\n",
       "      <td>695000.0</td>\n",
       "      <td>3.0</td>\n",
       "      <td>669900.0</td>\n",
       "      <td>3970.0</td>\n",
       "      <td>2.0</td>\n",
       "      <td>1995.0</td>\n",
       "      <td>243.30</td>\n",
       "      <td>1.0</td>\n",
       "      <td>678000.0</td>\n",
       "      <td>...</td>\n",
       "      <td>0.0</td>\n",
       "      <td>0.0</td>\n",
       "      <td>0.0</td>\n",
       "      <td>0.0</td>\n",
       "      <td>0.0</td>\n",
       "      <td>0.0</td>\n",
       "      <td>0.0</td>\n",
       "      <td>0.0</td>\n",
       "      <td>0.0</td>\n",
       "      <td>1.0</td>\n",
       "    </tr>\n",
       "    <tr>\n",
       "      <th>2</th>\n",
       "      <td>4.0</td>\n",
       "      <td>375000.0</td>\n",
       "      <td>2.0</td>\n",
       "      <td>384500.0</td>\n",
       "      <td>1849.0</td>\n",
       "      <td>0.0</td>\n",
       "      <td>2008.0</td>\n",
       "      <td>94.00</td>\n",
       "      <td>0.0</td>\n",
       "      <td>408000.0</td>\n",
       "      <td>...</td>\n",
       "      <td>0.0</td>\n",
       "      <td>0.0</td>\n",
       "      <td>0.0</td>\n",
       "      <td>0.0</td>\n",
       "      <td>0.0</td>\n",
       "      <td>0.0</td>\n",
       "      <td>0.0</td>\n",
       "      <td>0.0</td>\n",
       "      <td>0.0</td>\n",
       "      <td>1.0</td>\n",
       "    </tr>\n",
       "    <tr>\n",
       "      <th>3</th>\n",
       "      <td>4.0</td>\n",
       "      <td>393500.0</td>\n",
       "      <td>2.0</td>\n",
       "      <td>360000.0</td>\n",
       "      <td>2468.0</td>\n",
       "      <td>2.0</td>\n",
       "      <td>1978.0</td>\n",
       "      <td>89.50</td>\n",
       "      <td>0.0</td>\n",
       "      <td>562000.0</td>\n",
       "      <td>...</td>\n",
       "      <td>0.0</td>\n",
       "      <td>0.0</td>\n",
       "      <td>0.0</td>\n",
       "      <td>0.0</td>\n",
       "      <td>0.0</td>\n",
       "      <td>0.0</td>\n",
       "      <td>0.0</td>\n",
       "      <td>0.0</td>\n",
       "      <td>0.0</td>\n",
       "      <td>1.0</td>\n",
       "    </tr>\n",
       "    <tr>\n",
       "      <th>4</th>\n",
       "      <td>4.0</td>\n",
       "      <td>305800.0</td>\n",
       "      <td>2.0</td>\n",
       "      <td>309888.0</td>\n",
       "      <td>1684.0</td>\n",
       "      <td>4.0</td>\n",
       "      <td>1978.0</td>\n",
       "      <td>98.85</td>\n",
       "      <td>1.0</td>\n",
       "      <td>353000.0</td>\n",
       "      <td>...</td>\n",
       "      <td>0.0</td>\n",
       "      <td>0.0</td>\n",
       "      <td>0.0</td>\n",
       "      <td>0.0</td>\n",
       "      <td>0.0</td>\n",
       "      <td>0.0</td>\n",
       "      <td>0.0</td>\n",
       "      <td>0.0</td>\n",
       "      <td>0.0</td>\n",
       "      <td>1.0</td>\n",
       "    </tr>\n",
       "  </tbody>\n",
       "</table>\n",
       "<p>5 rows × 63 columns</p>\n",
       "</div>"
      ],
      "text/plain": [
       "   Bedrms  Sold Price  Baths Full  List Price  Tax Amount  Total Parking  \\\n",
       "0     3.0    445000.0         2.0    445000.0      2250.0            2.0   \n",
       "1     4.0    695000.0         3.0    669900.0      3970.0            2.0   \n",
       "2     4.0    375000.0         2.0    384500.0      1849.0            0.0   \n",
       "3     4.0    393500.0         2.0    360000.0      2468.0            2.0   \n",
       "4     4.0    305800.0         2.0    309888.0      1684.0            4.0   \n",
       "\n",
       "   Yr Built  Tot Flr Area AG Metres  Baths Half  Median assessed value  \\\n",
       "0    2004.0                  122.00         1.0               517000.0   \n",
       "1    1995.0                  243.30         1.0               678000.0   \n",
       "2    2008.0                   94.00         0.0               408000.0   \n",
       "3    1978.0                   89.50         0.0               562000.0   \n",
       "4    1978.0                   98.85         1.0               353000.0   \n",
       "\n",
       "            ...             Building_Single Wide  Construction_Brick  \\\n",
       "0           ...                              0.0                 0.0   \n",
       "1           ...                              0.0                 0.0   \n",
       "2           ...                              0.0                 0.0   \n",
       "3           ...                              0.0                 0.0   \n",
       "4           ...                              0.0                 0.0   \n",
       "\n",
       "   Construction_Concrete  Construction_Concrete Block  \\\n",
       "0                    0.0                          0.0   \n",
       "1                    0.0                          0.0   \n",
       "2                    0.0                          0.0   \n",
       "3                    0.0                          0.0   \n",
       "4                    0.0                          0.0   \n",
       "\n",
       "   Construction_Concrete Insulated  Construction_Log  Construction_Modular  \\\n",
       "0                              0.0               0.0                   0.0   \n",
       "1                              0.0               0.0                   0.0   \n",
       "2                              0.0               0.0                   0.0   \n",
       "3                              0.0               0.0                   0.0   \n",
       "4                              0.0               0.0                   0.0   \n",
       "\n",
       "   Construction_Prefab  Construction_Steel Frame  Construction_Wood Frame  \n",
       "0                  0.0                       0.0                      1.0  \n",
       "1                  0.0                       0.0                      1.0  \n",
       "2                  0.0                       0.0                      1.0  \n",
       "3                  0.0                       0.0                      1.0  \n",
       "4                  0.0                       0.0                      1.0  \n",
       "\n",
       "[5 rows x 63 columns]"
      ]
     },
     "execution_count": 3,
     "metadata": {},
     "output_type": "execute_result"
    }
   ],
   "source": [
    "df_train.head()"
   ]
  },
  {
   "cell_type": "code",
   "execution_count": 4,
   "metadata": {},
   "outputs": [
    {
     "name": "stdout",
     "output_type": "stream",
     "text": [
      "(16167, 63)\n",
      "(2021, 63)\n",
      "(2021, 63)\n"
     ]
    }
   ],
   "source": [
    "print(df_train.shape)\n",
    "print(df_dev.shape)\n",
    "print(df_test.shape)"
   ]
  },
  {
   "cell_type": "markdown",
   "metadata": {},
   "source": [
    "### Get Train and Labels as Numpy Array\n",
    "\n",
    "We need to remove \"List Price\" from the model input, because we won't have the \"List Price\" when we are trying to predict the price we want to sell."
   ]
  },
  {
   "cell_type": "code",
   "execution_count": null,
   "metadata": {
    "collapsed": true
   },
   "outputs": [],
   "source": []
  },
  {
   "cell_type": "code",
   "execution_count": 5,
   "metadata": {
    "collapsed": true
   },
   "outputs": [],
   "source": [
    "X_train, Y_train, Y_train_list = df_train.drop([\"List Price\", \"Sold Price\"], axis = 1).values, np.array(df_train[\"Sold Price\"]), np.array(df_train[\"List Price\"])\n",
    "X_dev, Y_dev, Y_dev_list = df_dev.drop([\"List Price\", \"Sold Price\"], axis = 1).values, np.array(df_dev[\"Sold Price\"]), np.array(df_train[\"List Price\"])\n",
    "X_test, Y_test, Y_test_list = df_test.drop([\"List Price\", \"Sold Price\"], axis = 1).values, np.array(df_test[\"Sold Price\"]), np.array(df_train[\"List Price\"])"
   ]
  },
  {
   "cell_type": "code",
   "execution_count": 6,
   "metadata": {},
   "outputs": [],
   "source": [
    "#base_rmse = math.sqrt(mean_squared_error(Y_train, Y_train_list))\n",
    "#print(base_rmse)"
   ]
  },
  {
   "cell_type": "markdown",
   "metadata": {},
   "source": [
    "### SVM is too slow. Discard"
   ]
  },
  {
   "cell_type": "code",
   "execution_count": 7,
   "metadata": {},
   "outputs": [
    {
     "name": "stdout",
     "output_type": "stream",
     "text": [
      "0.20217664488348722\n"
     ]
    }
   ],
   "source": [
    "start = timeit.default_timer()\n",
    "\n",
    "k_neighbour_model =KNeighborsRegressor(n_neighbors=5)\n",
    "k_neighbour_model.fit(X_train, Y_train)\n",
    "\n",
    "decisiontree_model = DecisionTreeRegressor()\n",
    "decisiontree_model.fit(X_train, Y_train)\n",
    "\n",
    "randomforest_model = RandomForestRegressor(n_estimators=100, max_features='sqrt')\n",
    "randomforest_model.fit(X_train, Y_train)\n",
    "\n",
    "lr_model = LinearRegression()\n",
    "lr_model.fit(X_train, Y_train)\n",
    "\n",
    "gb_model = GradientBoostingRegressor()\n",
    "gb_model.fit(X_train, Y_train)\n",
    "\n",
    "bagging_model = BaggingRegressor(n_estimators=100)\n",
    "bagging_model.fit(X_train, Y_train)\n",
    "\"\"\"\n",
    "svr_rbf = SVR(kernel='rbf', C=1e3, gamma=0.1)\n",
    "svr_lin = SVR(kernel='linear', C=1e3)\n",
    "svr_poly = SVR(kernel='poly', C=1e3, degree=2)\n",
    "svr_rbf.fit(X_train, Y_train) #.predict(X_dev)\n",
    "svr_lin.fit(X_train, Y_train) #.predict(X_dev)\n",
    "svr_poly.fit(X_train, Y_train) #.predict(X_dev)\n",
    "\"\"\"\n",
    "stop = timeit.default_timer()\n",
    "print((stop - start)/60)\n"
   ]
  },
  {
   "cell_type": "markdown",
   "metadata": {},
   "source": [
    "## Make the prediction"
   ]
  },
  {
   "cell_type": "code",
   "execution_count": 8,
   "metadata": {},
   "outputs": [
    {
     "name": "stdout",
     "output_type": "stream",
     "text": [
      "Linear Regression Test RMSE:  85547\n",
      "Decision Tree Test RMSE:  59355\n",
      "Random Forest Test RMSE:  44708\n",
      "KNN Test RMSE:  55194\n",
      "Gradient Boosting RMSE:  46947\n",
      "Bagging RMSE:  44225\n"
     ]
    }
   ],
   "source": [
    "y_mean = np.mean(Y_train)\n",
    "y_mean_t = np.mean(Y_test)\n",
    "\n",
    "\n",
    "y_ptest_lr = lr_model.predict(X_test)\n",
    "y_ptest_decisiontree = decisiontree_model.predict(X_test)\n",
    "y_ptest_randomforest = randomforest_model.predict(X_test)\n",
    "y_ptest_knn = k_neighbour_model.predict(X_test)\n",
    "y_ptest_gb = gb_model.predict(X_test)\n",
    "\n",
    "print(\"Linear Regression Test RMSE: \", int(mean_absolute_error(Y_test, lr_model.predict(X_test))))\n",
    "print(\"Decision Tree Test RMSE: \", int(mean_absolute_error(Y_test, decisiontree_model.predict(X_test))))\n",
    "print(\"Random Forest Test RMSE: \", int(mean_absolute_error(Y_test, randomforest_model.predict(X_test))))\n",
    "print(\"KNN Test RMSE: \", int(mean_absolute_error(Y_test, k_neighbour_model.predict(X_test))))\n",
    "print(\"Gradient Boosting RMSE: \", int(mean_absolute_error(Y_test, gb_model.predict(X_test))))\n",
    "print(\"Bagging RMSE: \", int(mean_absolute_error(Y_test, bagging_model.predict(X_test))))"
   ]
  },
  {
   "cell_type": "markdown",
   "metadata": {},
   "source": [
    "## Model Evaluation"
   ]
  },
  {
   "cell_type": "code",
   "execution_count": 9,
   "metadata": {
    "collapsed": true
   },
   "outputs": [],
   "source": [
    "seed = 42"
   ]
  },
  {
   "cell_type": "code",
   "execution_count": 10,
   "metadata": {},
   "outputs": [],
   "source": [
    "models = {\n",
    "    \"Linear Regression\": LinearRegression(),\n",
    "    \"Decision Tree\": DecisionTreeRegressor(),\n",
    "    \"Random Forest\": RandomForestRegressor(n_estimators=100, max_features='sqrt'),\n",
    "    \"KNN\": KNeighborsRegressor(n_neighbors = 5),\n",
    "    \"Gradient Boosting\": GradientBoostingRegressor(),\n",
    "    \"Bagging\": BaggingRegressor(n_estimators=100)\n",
    "}\n",
    "rmse_list = {}\n",
    "r2_list = {}\n"
   ]
  },
  {
   "cell_type": "markdown",
   "metadata": {},
   "source": [
    "## Use 10-fold cross-valication to evaluation the models"
   ]
  },
  {
   "cell_type": "code",
   "execution_count": 11,
   "metadata": {},
   "outputs": [],
   "source": [
    "kfold = model_selection.KFold(n_splits=10, random_state=seed)\n",
    "\n",
    "for key in models.keys():\n",
    "    model = models[key]\n",
    "    mse_results = model_selection.cross_val_score(model, X_train, Y_train, cv=kfold, scoring='neg_mean_squared_error')\n",
    "\n",
    "    rmse_list[key] = [np.sqrt(abs(mse_results)).mean(), np.sqrt(abs(mse_results)).std()]\n",
    "\n",
    "    r2_results = model_selection.cross_val_score(model, X_train, Y_train, cv=kfold, scoring='r2')\n",
    "    r2_list[key] = [r2_results.mean(), r2_results.std()]\n",
    "    \n",
    "    "
   ]
  },
  {
   "cell_type": "code",
   "execution_count": 12,
   "metadata": {
    "collapsed": true
   },
   "outputs": [],
   "source": [
    "def autolabel_r2(rects):\n",
    "    \"\"\"\n",
    "    Attach a text label above each bar displaying its height\n",
    "    \"\"\"\n",
    "    for rect in rects:\n",
    "        height = rect.get_height()\n",
    "        ax.text(rect.get_x() + rect.get_width()/2., 1.05*height,\n",
    "                '%.3f' % height,\n",
    "                ha='center', va='bottom',  fontsize=15)\n",
    "        \n",
    "def autolabel_rmse(rects):\n",
    "    \"\"\"\n",
    "    Attach a text label above each bar displaying its height\n",
    "    \"\"\"\n",
    "    for rect in rects:\n",
    "        height = rect.get_height()\n",
    "        ax.text(rect.get_x() + rect.get_width()/2., 1.05*height,\n",
    "                '%d' % int(height),\n",
    "                ha='center', va='bottom',  fontsize=15)"
   ]
  },
  {
   "cell_type": "code",
   "execution_count": 13,
   "metadata": {},
   "outputs": [
    {
     "data": {
      "image/png": "[encoded data removed]",
      "text/plain": [
       "<matplotlib.figure.Figure at 0x7f244ef8f5c0>"
      ]
     },
     "metadata": {},
     "output_type": "display_data"
    }
   ],
   "source": [
    "\n",
    "r2_sorted_keys = sorted(r2_list, key=r2_list.get, reverse=True)\n",
    "\n",
    "r21_list = {}\n",
    "for i in range(len(r2_sorted_keys)):\n",
    "    key = r2_sorted_keys[i]\n",
    "    r21_list[key] = r2_list[key]\n",
    "\n",
    "N = len(r21_list.values())\n",
    "\n",
    "r21_values = np.array(list(r21_list.values()))\n",
    "x = r21_values[:, 0]\n",
    "\n",
    "\n",
    "ind = np.arange(N)  # the x locations for the groups\n",
    "width = 0.35      # the width of the bars\n",
    "\n",
    "fig, ax = plt.subplots(figsize=(19, 7))\n",
    "#g1 = ax.bar(ind, x, width, color='b')\n",
    "#g2 = ax.plot(x, 'r')\n",
    "\n",
    "# add some text for labels, title and axes ticks\n",
    "ax.set_ylabel('R^2', fontsize=20)\n",
    "ax.set_title('Model Comparison', fontsize=20)\n",
    "ax.set_xticks(ind) # + width / 2)\n",
    "ax.set_xticklabels(list(r21_list.keys())) \n",
    "ax.tick_params(labelsize=20)\n",
    "\n",
    "rects1 = ax.bar(np.arange(N), r21_values[:,0], width=width, color='g', yerr=r21_values[:,1])\n",
    "autolabel_r2(rects1)\n",
    "\n",
    "ax.set_ylim([0, max(x) + 0.3])\n",
    "\n",
    "plt.show()"
   ]
  },
  {
   "cell_type": "code",
   "execution_count": 14,
   "metadata": {},
   "outputs": [
    {
     "data": {
      "image/png": "[encoded data removed]",
      "text/plain": [
       "<matplotlib.figure.Figure at 0x7f244e508630>"
      ]
     },
     "metadata": {},
     "output_type": "display_data"
    }
   ],
   "source": [
    "rmse_sorted_keys = sorted(rmse_list, key=rmse_list.get, reverse=False)\n",
    "\n",
    "rmse1_list = {}\n",
    "for i in range(len(rmse_sorted_keys)):\n",
    "    key = rmse_sorted_keys[i]\n",
    "    rmse1_list[key] = rmse_list[key]\n",
    "\n",
    "rmse1_values = np.array(list(rmse1_list.values()))\n",
    "N = len(rmse1_list.values())\n",
    "x = rmse1_values[:, 0]\n",
    "\n",
    "\n",
    "ind = np.arange(N)  # the x locations for the groups\n",
    "width = 0.35       # the width of the bars\n",
    "\n",
    "fig, ax = plt.subplots(figsize=(19, 7))\n",
    "#g1 = ax.bar(ind, x, width, color='b')\n",
    "#g2 = ax.plot(x, 'r')\n",
    "rects1 = ax.bar(np.arange(N), rmse1_values[:, 0], width, color='b', yerr=rmse1_values[:, 1], align='center')\n",
    "autolabel_rmse(rects1)\n",
    "\n",
    "# add some text for labels, title and axes ticks\n",
    "ax.set_ylabel('RMSE', fontsize=20)\n",
    "ax.set_title('Model Comparison', fontsize=20)\n",
    "ax.set_xticks(ind) # + width / 2)\n",
    "ax.set_xticklabels(list(rmse1_list.keys())) \n",
    "ax.tick_params(labelsize=20)\n",
    "\n",
    "\n",
    "ax.set_ylim([0, max(x) + 30000])\n",
    "plt.show()"
   ]
  }
 ],
 "metadata": {
  "kernelspec": {
   "display_name": "Python 3",
   "language": "python",
   "name": "python3"
  },
  "language_info": {
   "codemirror_mode": {
    "name": "ipython",
    "version": 3
   },
   "file_extension": ".py",
   "mimetype": "text/x-python",
   "name": "python",
   "nbconvert_exporter": "python",
   "pygments_lexer": "ipython3",
   "version": "3.6.0"
  }
 },
 "nbformat": 4,
 "nbformat_minor": 2
}
