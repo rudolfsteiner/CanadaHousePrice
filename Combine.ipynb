{
 "cells": [
  {
   "cell_type": "code",
   "execution_count": 1,
   "metadata": {
    "collapsed": true
   },
   "outputs": [],
   "source": [
    "import re\n",
    "import pandas as pd\n",
    "import json\n"
   ]
  },
  {
   "cell_type": "code",
   "execution_count": 2,
   "metadata": {
    "collapsed": true
   },
   "outputs": [],
   "source": [
    "def get_addresses(string):\n",
    "    pattern_address = r\"\\\".*?[A-Z][0-9][A-Z] [0-9][A-Z][0-9]\\\": {.*?\\\"Baths Half\\\": \\\"[0-9]+\\\"}\"\n",
    "    pattern_content = r\"{.*?}\"\n",
    "    addresses = re.findall(pattern_address, str1)\n",
    "    return addresses\n",
    "\n",
    "def get_rooms(string):\n",
    "    room_pattern = \"'rooms': \\[\\[[\\S ]+?\\]\\]\"\n",
    "    rooms = re.findall(room_pattern, string)\n",
    "    #print(rooms)\n",
    "    return rooms\n",
    "\n",
    "def rv_rooms(string):\n",
    "    r_pattern = \"'rooms': \\[\\[[\\S ]+?\\]\\], \"\n",
    "    string_new = re.sub(r_pattern, \"\",string) \n",
    "    return string_new\n",
    "\n",
    "def rv_numkeys(string):\n",
    "    num_pattern = r\"'[0-9]+?': '[\\S ]+?', \"\n",
    "    string_new = re.sub(num_pattern, \"\",string) \n",
    "    return string_new\n",
    "\n",
    "def rv_white(string):\n",
    "    invalid_pattern = \"\\\"\\\": {[\\S ]+?}, \"\n",
    "    string_new = re.sub(invalid_pattern, \"\", string)\n",
    "    \n",
    "    white_pattern = r\"[\\t\\n\\r\\f\\v]+\"\n",
    "    string_new = re.sub(white_pattern, \"\", string_new)\n",
    "    \n",
    "    head_pattern = r\"'\"\n",
    "    string_new = re.sub(head_pattern, \"\", string_new)\n",
    "    \n",
    "    slash_pattern = r\"\\\\\\\"\"\n",
    "    string_new = re.sub(slash_pattern, \"\", string_new)\n",
    "\n",
    "    new_pattern = r\"\\\\u00a0\"\n",
    "    string_new = re.sub(new_pattern, \"\", string_new)\n",
    "    \n",
    "    new_pattern = r\"\\\\u00ad\"\n",
    "    string_new = re.sub(new_pattern, \"\", string_new)\n",
    "    return string_new\n",
    "\n",
    "def get_data_from_string(string):\n",
    "\n",
    "    columns = ['Address', 'Style', 'Bedrms', 'Zone', 'Area', 'Basement', 'Building Type', 'Sold Price', 'Heating Type', 'Baths Full', 'Amenities', 'Roof Type', 'Goods Included', 'Foundation', 'Bedrms Above Grade', 'Flooring', 'Basement Development', 'List Price', 'Fireplace', 'Land Use Code', 'Property Type', 'Tax Amount', 'MLS® Number', 'Heating Fuel', 'Tot Flr Area A.G. (SF)', 'Enclosed Parking', 'day_sold', 'base_description', 'Total Parking', 'Features', 'dom', 'Site Influences', 'Listing Firm 1 Name', 'Yr Built', 'Community', 'Front Exposure', 'Exterior', 'Parking', 'Beds Total', 'Construction Type', 'Tot Flr Area AG Metres', 'Baths Half', 'rooms']\n",
    "\n",
    "\n",
    "    df = pd.DataFrame(None, None, columns=columns)\n",
    "\n",
    "    string_clean = rv_white(string)\n",
    "    \n",
    "    d_1st = json.loads(string_clean)\n",
    "    \n",
    "    row = -1\n",
    "\n",
    "    for key_1st in d_1st.keys():\n",
    "        row += 1\n",
    "        df.loc[row, 'Address'] = key_1st\n",
    "        str_2nd = str(d_1st[key_1st])\n",
    "\n",
    "        str_rooms = get_rooms(str_2nd)\n",
    "\n",
    "        str_rooms_value = str_rooms[0].replace(\"'rooms': \", \"\")\n",
    "\n",
    "        df.loc[row, 'rooms'] = str_rooms_value\n",
    "        str_2nd_clean = rv_rooms(str_2nd)\n",
    "        str_2nd_cleaner = rv_numkeys(str_2nd_clean)\n",
    "\n",
    "        str_2nd_json = str_2nd_cleaner.replace(\"'\", \"\\\"\")\n",
    "\n",
    "        #print(\"Arount 1030-1050 position:\", str_2nd_json[1030:1050])\n",
    "        \n",
    "        #print(\"Arount 859-860 position:\", str_2nd_json[845:870])\n",
    "        d_2nd = json.loads(str_2nd_json)\n",
    "\n",
    "        for key_2nd in d_2nd.keys():\n",
    "            if key_2nd in df.columns:\n",
    "                df.loc[row, key_2nd] = d_2nd[key_2nd]\n",
    "    \n",
    "    return df\n"
   ]
  },
  {
   "cell_type": "code",
   "execution_count": 3,
   "metadata": {},
   "outputs": [
    {
     "name": "stdout",
     "output_type": "stream",
     "text": [
      "1\n",
      "(498, 43)\n",
      "2\n",
      "(489, 43)\n",
      "3\n",
      "(485, 43)\n",
      "4\n",
      "(485, 43)\n",
      "5\n",
      "(490, 43)\n",
      "6\n",
      "(489, 43)\n",
      "7\n",
      "(489, 43)\n",
      "8\n",
      "(444, 43)\n",
      "9\n",
      "(459, 43)\n",
      "10\n",
      "(494, 43)\n",
      "11\n",
      "(467, 43)\n",
      "12\n",
      "(462, 43)\n",
      "13\n",
      "(493, 43)\n",
      "14\n",
      "(482, 43)\n",
      "15\n",
      "(485, 43)\n",
      "16\n",
      "(497, 43)\n",
      "17\n",
      "(471, 43)\n",
      "18\n",
      "(496, 43)\n",
      "19\n",
      "(492, 43)\n",
      "20\n",
      "(470, 43)\n",
      "21\n",
      "(492, 43)\n",
      "22\n",
      "(474, 43)\n",
      "23\n",
      "(496, 43)\n",
      "24\n",
      "(489, 43)\n",
      "25\n",
      "(497, 43)\n",
      "26\n",
      "(495, 43)\n",
      "27\n",
      "(497, 43)\n",
      "28\n",
      "(445, 43)\n",
      "29\n",
      "(474, 43)\n",
      "30\n",
      "(442, 43)\n",
      "31\n",
      "(446, 43)\n",
      "32\n",
      "(497, 43)\n",
      "33\n",
      "(452, 43)\n",
      "34\n",
      "(406, 43)\n",
      "35\n",
      "(466, 43)\n",
      "36\n",
      "(404, 43)\n",
      "37\n",
      "(448, 43)\n",
      "38\n",
      "(382, 43)\n",
      "39\n",
      "(441, 43)\n",
      "40\n",
      "(490, 43)\n",
      "41\n",
      "(425, 43)\n",
      "42\n",
      "(438, 43)\n",
      "43\n",
      "(446, 43)\n",
      "44\n",
      "(428, 43)\n",
      "45\n",
      "(443, 43)\n",
      "Total RowCount: 21050\n"
     ]
    }
   ],
   "source": [
    "#load and clean the data file\n",
    "\n",
    "rowcount = 0\n",
    "dflist=[]\n",
    "for i in range(1, 46):\n",
    "    print(i)\n",
    "    with open(\"./data/\"+str(i)+\".attrs\", 'r') as f:\n",
    "        x = f.readlines()\n",
    "    \n",
    "    df1 = get_data_from_string(x[0])\n",
    "    print(df1.shape)\n",
    "    rowcount += df1.shape[0]\n",
    "    dflist.append(df1)\n",
    "    \n",
    "print(\"Total RowCount:\", rowcount)"
   ]
  },
  {
   "cell_type": "code",
   "execution_count": 4,
   "metadata": {},
   "outputs": [
    {
     "name": "stdout",
     "output_type": "stream",
     "text": [
      "45\n"
     ]
    }
   ],
   "source": [
    "print(len(dflist))\n",
    "\n",
    "df = pd.concat(dflist, ignore_index=True)"
   ]
  },
  {
   "cell_type": "code",
   "execution_count": 5,
   "metadata": {},
   "outputs": [
    {
     "name": "stdout",
     "output_type": "stream",
     "text": [
      "(21050, 43)\n"
     ]
    }
   ],
   "source": [
    "print(df.shape)"
   ]
  },
  {
   "cell_type": "code",
   "execution_count": 6,
   "metadata": {
    "collapsed": true
   },
   "outputs": [],
   "source": [
    "df.to_csv(\"./data/mls.csv\", encoding='utf-8', index=False)"
   ]
  },
  {
   "cell_type": "code",
   "execution_count": 7,
   "metadata": {
    "collapsed": true
   },
   "outputs": [],
   "source": [
    "del df[\"rooms\"]"
   ]
  },
  {
   "cell_type": "code",
   "execution_count": 8,
   "metadata": {
    "collapsed": true
   },
   "outputs": [],
   "source": [
    "del df[\"Zone\"]"
   ]
  },
  {
   "cell_type": "code",
   "execution_count": 9,
   "metadata": {
    "collapsed": true
   },
   "outputs": [],
   "source": [
    "del df[\"Amenities\"]"
   ]
  },
  {
   "cell_type": "code",
   "execution_count": 10,
   "metadata": {
    "collapsed": true
   },
   "outputs": [],
   "source": [
    "del df[\"Goods Included\"]"
   ]
  },
  {
   "cell_type": "code",
   "execution_count": 11,
   "metadata": {
    "collapsed": true
   },
   "outputs": [],
   "source": [
    "del df[\"Foundation\"]"
   ]
  },
  {
   "cell_type": "code",
   "execution_count": 12,
   "metadata": {
    "collapsed": true
   },
   "outputs": [],
   "source": [
    "del df[\"Bedrms Above Grade\"]"
   ]
  },
  {
   "cell_type": "code",
   "execution_count": 13,
   "metadata": {
    "collapsed": true
   },
   "outputs": [],
   "source": [
    "del df[\"Flooring\"]"
   ]
  },
  {
   "cell_type": "code",
   "execution_count": 14,
   "metadata": {
    "collapsed": true
   },
   "outputs": [],
   "source": [
    "del df[\"Fireplace\"]"
   ]
  },
  {
   "cell_type": "code",
   "execution_count": 15,
   "metadata": {
    "collapsed": true
   },
   "outputs": [],
   "source": [
    "del df[\"Heating Fuel\"]"
   ]
  },
  {
   "cell_type": "code",
   "execution_count": 16,
   "metadata": {
    "collapsed": true
   },
   "outputs": [],
   "source": [
    "del df[\"base_description\"]"
   ]
  },
  {
   "cell_type": "code",
   "execution_count": 17,
   "metadata": {
    "collapsed": true
   },
   "outputs": [],
   "source": [
    "del df[\"Features\"]"
   ]
  },
  {
   "cell_type": "code",
   "execution_count": 18,
   "metadata": {
    "collapsed": true
   },
   "outputs": [],
   "source": [
    "del df[\"dom\"]"
   ]
  },
  {
   "cell_type": "code",
   "execution_count": 19,
   "metadata": {
    "collapsed": true
   },
   "outputs": [],
   "source": [
    "del df[\"Listing Firm 1 Name\"]"
   ]
  },
  {
   "cell_type": "code",
   "execution_count": 20,
   "metadata": {
    "collapsed": true
   },
   "outputs": [],
   "source": [
    "del df[\"Exterior\"]"
   ]
  },
  {
   "cell_type": "code",
   "execution_count": 21,
   "metadata": {
    "collapsed": true
   },
   "outputs": [],
   "source": [
    "df.to_csv(\"./data/mls_lighter.csv\", encoding='utf-8', index=False)"
   ]
  },
  {
   "cell_type": "code",
   "execution_count": 22,
   "metadata": {
    "collapsed": true
   },
   "outputs": [],
   "source": [
    "df = pd.read_csv(\"./data/mls_lighter.csv\")"
   ]
  },
  {
   "cell_type": "code",
   "execution_count": 23,
   "metadata": {
    "collapsed": true
   },
   "outputs": [],
   "source": [
    "del df[\"Basement Development\"]"
   ]
  },
  {
   "cell_type": "code",
   "execution_count": 24,
   "metadata": {
    "collapsed": true
   },
   "outputs": [],
   "source": [
    "del df[\"Land Use Code\"]"
   ]
  },
  {
   "cell_type": "code",
   "execution_count": 25,
   "metadata": {
    "collapsed": true
   },
   "outputs": [],
   "source": [
    "del df[\"Property Type\"]"
   ]
  },
  {
   "cell_type": "code",
   "execution_count": 26,
   "metadata": {
    "collapsed": true
   },
   "outputs": [],
   "source": [
    "del df[\"Enclosed Parking\"]"
   ]
  },
  {
   "cell_type": "code",
   "execution_count": 27,
   "metadata": {},
   "outputs": [
    {
     "data": {
      "text/plain": [
       "Address                   object\n",
       "Style                     object\n",
       "Bedrms                     int64\n",
       "Area                      object\n",
       "Basement                  object\n",
       "Building Type             object\n",
       "Sold Price                object\n",
       "Heating Type              object\n",
       "Baths Full                 int64\n",
       "Roof Type                 object\n",
       "List Price                object\n",
       "Tax Amount                object\n",
       "MLS® Number               object\n",
       "Tot Flr Area A.G. (SF)    object\n",
       "day_sold                  object\n",
       "Total Parking             object\n",
       "Site Influences           object\n",
       "Yr Built                   int64\n",
       "Community                 object\n",
       "Front Exposure            object\n",
       "Parking                   object\n",
       "Beds Total                 int64\n",
       "Construction Type         object\n",
       "Tot Flr Area AG Metres    object\n",
       "Baths Half                 int64\n",
       "dtype: object"
      ]
     },
     "execution_count": 27,
     "metadata": {},
     "output_type": "execute_result"
    }
   ],
   "source": [
    "df.dtypes"
   ]
  },
  {
   "cell_type": "code",
   "execution_count": 28,
   "metadata": {
    "collapsed": true
   },
   "outputs": [],
   "source": [
    "df.to_csv(\"./data/mls_further.csv\", encoding='utf-8', index=False)"
   ]
  },
  {
   "cell_type": "code",
   "execution_count": 29,
   "metadata": {
    "collapsed": true
   },
   "outputs": [],
   "source": [
    "df = pd.read_csv(\"./data/mls_further.csv\")"
   ]
  },
  {
   "cell_type": "code",
   "execution_count": 30,
   "metadata": {
    "collapsed": true
   },
   "outputs": [],
   "source": [
    "del df[\"Heating Type\"]"
   ]
  },
  {
   "cell_type": "code",
   "execution_count": 31,
   "metadata": {
    "collapsed": true
   },
   "outputs": [],
   "source": [
    "del df[\"Area\"]"
   ]
  },
  {
   "cell_type": "code",
   "execution_count": 32,
   "metadata": {
    "collapsed": true
   },
   "outputs": [],
   "source": [
    "del df[\"Roof Type\"]\n"
   ]
  },
  {
   "cell_type": "code",
   "execution_count": 33,
   "metadata": {},
   "outputs": [
    {
     "name": "stdout",
     "output_type": "stream",
     "text": [
      "Index(['Address', 'Style', 'Bedrms', 'Basement', 'Building Type', 'Sold Price',\n",
      "       'Baths Full', 'List Price', 'Tax Amount', 'MLS® Number',\n",
      "       'Tot Flr Area A.G. (SF)', 'day_sold', 'Total Parking',\n",
      "       'Site Influences', 'Yr Built', 'Community', 'Front Exposure', 'Parking',\n",
      "       'Beds Total', 'Construction Type', 'Tot Flr Area AG Metres',\n",
      "       'Baths Half'],\n",
      "      dtype='object')\n"
     ]
    }
   ],
   "source": [
    "print (df.columns)"
   ]
  },
  {
   "cell_type": "code",
   "execution_count": 34,
   "metadata": {
    "collapsed": true
   },
   "outputs": [],
   "source": [
    "del df[\"Front Exposure\"]"
   ]
  },
  {
   "cell_type": "code",
   "execution_count": 35,
   "metadata": {
    "collapsed": true
   },
   "outputs": [],
   "source": [
    "del df[\"Tot Flr Area A.G. (SF)\"]"
   ]
  },
  {
   "cell_type": "code",
   "execution_count": 36,
   "metadata": {
    "collapsed": true
   },
   "outputs": [],
   "source": [
    "del df[\"Parking\"]"
   ]
  },
  {
   "cell_type": "code",
   "execution_count": 37,
   "metadata": {
    "collapsed": true
   },
   "outputs": [],
   "source": [
    "df.to_csv(\"./data/mls_new.csv\", encoding='utf-8', index=False)"
   ]
  },
  {
   "cell_type": "code",
   "execution_count": 38,
   "metadata": {
    "collapsed": true
   },
   "outputs": [],
   "source": [
    "import numpy as np\n",
    "import pandas as pd\n",
    "import datetime"
   ]
  },
  {
   "cell_type": "code",
   "execution_count": 39,
   "metadata": {
    "collapsed": true
   },
   "outputs": [],
   "source": [
    "df = pd.read_csv(\"./data/mls_new.csv\")"
   ]
  },
  {
   "cell_type": "code",
   "execution_count": 40,
   "metadata": {
    "collapsed": true
   },
   "outputs": [],
   "source": [
    "df_ac = pd.read_csv(\"./data/Assessments_by_Community.csv\")"
   ]
  },
  {
   "cell_type": "code",
   "execution_count": 41,
   "metadata": {},
   "outputs": [
    {
     "data": {
      "text/plain": [
       "Index(['Address', 'Style', 'Bedrms', 'Basement', 'Building Type', 'Sold Price',\n",
       "       'Baths Full', 'List Price', 'Tax Amount', 'MLS® Number', 'day_sold',\n",
       "       'Total Parking', 'Site Influences', 'Yr Built', 'Community',\n",
       "       'Beds Total', 'Construction Type', 'Tot Flr Area AG Metres',\n",
       "       'Baths Half'],\n",
       "      dtype='object')"
      ]
     },
     "execution_count": 41,
     "metadata": {},
     "output_type": "execute_result"
    }
   ],
   "source": [
    "df.columns\n"
   ]
  },
  {
   "cell_type": "code",
   "execution_count": 42,
   "metadata": {},
   "outputs": [
    {
     "data": {
      "text/plain": [
       "Index(['date', 'Community name', 'COMM_CODE', 'Number of taxable accounts',\n",
       "       'Median assessed value'],\n",
       "      dtype='object')"
      ]
     },
     "execution_count": 42,
     "metadata": {},
     "output_type": "execute_result"
    }
   ],
   "source": [
    "df_ac.columns"
   ]
  },
  {
   "cell_type": "code",
   "execution_count": 43,
   "metadata": {
    "collapsed": true
   },
   "outputs": [],
   "source": [
    "df_ac = df_ac.rename(index=str, columns={\"Community name\": \"Community\"})"
   ]
  },
  {
   "cell_type": "code",
   "execution_count": 44,
   "metadata": {},
   "outputs": [
    {
     "name": "stdout",
     "output_type": "stream",
     "text": [
      "(21050, 19)\n",
      "(392, 5)\n"
     ]
    }
   ],
   "source": [
    "print(df.shape)\n",
    "print(df_ac.shape)"
   ]
  },
  {
   "cell_type": "code",
   "execution_count": 45,
   "metadata": {
    "collapsed": true
   },
   "outputs": [],
   "source": [
    "df_ac[\"date\"] = pd.to_datetime(df_ac[\"date\"])\n",
    "date_after = datetime.date(2016, 5, 19)\n",
    "df_ac_2016 = df_ac[df_ac['date'] < date_after]"
   ]
  },
  {
   "cell_type": "code",
   "execution_count": 46,
   "metadata": {},
   "outputs": [
    {
     "data": {
      "text/plain": [
       "(197, 5)"
      ]
     },
     "execution_count": 46,
     "metadata": {},
     "output_type": "execute_result"
    }
   ],
   "source": [
    "df_ac_2016.shape"
   ]
  },
  {
   "cell_type": "code",
   "execution_count": 47,
   "metadata": {
    "collapsed": true
   },
   "outputs": [],
   "source": [
    "df_new = pd.merge(df, df_ac_2016[[\"Community\", \"Median assessed value\"]], on = \"Community\", how = \"left\")"
   ]
  },
  {
   "cell_type": "code",
   "execution_count": 48,
   "metadata": {},
   "outputs": [
    {
     "data": {
      "text/plain": [
       "(22001, 20)"
      ]
     },
     "execution_count": 48,
     "metadata": {},
     "output_type": "execute_result"
    }
   ],
   "source": [
    "df_new.shape"
   ]
  },
  {
   "cell_type": "code",
   "execution_count": 49,
   "metadata": {
    "collapsed": true
   },
   "outputs": [],
   "source": [
    "df_new[\"Total Parking\"].fillna(0, inplace=True)\n",
    "df_new[\"Site Influences\"].fillna(\"None\", inplace=True)"
   ]
  },
  {
   "cell_type": "code",
   "execution_count": 50,
   "metadata": {
    "collapsed": true
   },
   "outputs": [],
   "source": [
    "df_clean = df_new.dropna(how='any',axis=0) "
   ]
  },
  {
   "cell_type": "code",
   "execution_count": 51,
   "metadata": {},
   "outputs": [
    {
     "name": "stdout",
     "output_type": "stream",
     "text": [
      "columns name:  Address : 0\n",
      "columns name:  Style : 0\n",
      "columns name:  Bedrms : 0\n",
      "columns name:  Basement : 0\n",
      "columns name:  Building Type : 0\n",
      "columns name:  Sold Price : 0\n",
      "columns name:  Baths Full : 0\n",
      "columns name:  List Price : 0\n",
      "columns name:  Tax Amount : 0\n",
      "columns name:  MLS® Number : 0\n",
      "columns name:  day_sold : 0\n",
      "columns name:  Total Parking : 0\n",
      "columns name:  Site Influences : 0\n",
      "columns name:  Yr Built : 0\n",
      "columns name:  Community : 0\n",
      "columns name:  Beds Total : 0\n",
      "columns name:  Construction Type : 0\n",
      "columns name:  Tot Flr Area AG Metres : 0\n",
      "columns name:  Baths Half : 0\n",
      "columns name:  Median assessed value : 0\n"
     ]
    }
   ],
   "source": [
    "for column in df_clean.columns:   \n",
    "    print(\"columns name: \" , column ,\":\" ,df_clean[[column]].isnull().sum().sum())"
   ]
  },
  {
   "cell_type": "code",
   "execution_count": 52,
   "metadata": {},
   "outputs": [
    {
     "data": {
      "text/plain": [
       "(20400, 20)"
      ]
     },
     "execution_count": 52,
     "metadata": {},
     "output_type": "execute_result"
    }
   ],
   "source": [
    "df_clean.shape"
   ]
  },
  {
   "cell_type": "code",
   "execution_count": 53,
   "metadata": {},
   "outputs": [
    {
     "name": "stderr",
     "output_type": "stream",
     "text": [
      "/home/tiger/anaconda3/lib/python3.6/site-packages/ipykernel_launcher.py:1: SettingWithCopyWarning: \n",
      "A value is trying to be set on a copy of a slice from a DataFrame.\n",
      "Try using .loc[row_indexer,col_indexer] = value instead\n",
      "\n",
      "See the caveats in the documentation: http://pandas.pydata.org/pandas-docs/stable/indexing.html#indexing-view-versus-copy\n",
      "  \"\"\"Entry point for launching an IPython kernel.\n"
     ]
    }
   ],
   "source": [
    "df_clean[\"Site Influences\"] = df_clean[\"Site Influences\"].str.replace(\", See Remarks\", \"\")"
   ]
  },
  {
   "cell_type": "code",
   "execution_count": 54,
   "metadata": {},
   "outputs": [
    {
     "name": "stderr",
     "output_type": "stream",
     "text": [
      "/home/tiger/anaconda3/lib/python3.6/site-packages/ipykernel_launcher.py:1: SettingWithCopyWarning: \n",
      "A value is trying to be set on a copy of a slice from a DataFrame.\n",
      "Try using .loc[row_indexer,col_indexer] = value instead\n",
      "\n",
      "See the caveats in the documentation: http://pandas.pydata.org/pandas-docs/stable/indexing.html#indexing-view-versus-copy\n",
      "  \"\"\"Entry point for launching an IPython kernel.\n"
     ]
    }
   ],
   "source": [
    "df_clean[\"Basement\"] = df_clean[\"Basement\"].str.replace(\", See Remarks\", \"\")"
   ]
  },
  {
   "cell_type": "code",
   "execution_count": 55,
   "metadata": {
    "collapsed": true
   },
   "outputs": [],
   "source": [
    "#print(df_clean.select_dtypes(include=['object']))\n",
    "\n",
    "\n",
    "for column in df_clean.columns:\n",
    "    #print(type(column))\n",
    "    if(df_clean[column].dtype == np.object):\n",
    "        df_clean = df_clean[df_clean[column].str.contains(\"See Remarks\") == False]\n",
    "\n",
    "#ddf[ddf[\"C\"].str.contains(\"XYZ\") == False]\n"
   ]
  },
  {
   "cell_type": "code",
   "execution_count": 56,
   "metadata": {},
   "outputs": [
    {
     "data": {
      "text/plain": [
       "(20220, 20)"
      ]
     },
     "execution_count": 56,
     "metadata": {},
     "output_type": "execute_result"
    }
   ],
   "source": [
    "df_clean.shape"
   ]
  },
  {
   "cell_type": "markdown",
   "metadata": {},
   "source": [
    "### Extract some features from column \"Site Influences\""
   ]
  },
  {
   "cell_type": "code",
   "execution_count": 57,
   "metadata": {
    "collapsed": true
   },
   "outputs": [],
   "source": [
    "df_clean['Cul-De-Sac'] = df_clean['Site Influences'].str.contains('Cul-De-Sac', regex=True)"
   ]
  },
  {
   "cell_type": "code",
   "execution_count": 58,
   "metadata": {
    "collapsed": true
   },
   "outputs": [],
   "source": [
    "df_clean['Playground Nearby'] = df_clean['Site Influences'].str.contains('Playground Nearby', regex=True)"
   ]
  },
  {
   "cell_type": "code",
   "execution_count": 59,
   "metadata": {
    "collapsed": true
   },
   "outputs": [],
   "source": [
    "df_clean['Golf Nearby'] = df_clean['Site Influences'].str.contains('Golf Nearby', regex=True)"
   ]
  },
  {
   "cell_type": "code",
   "execution_count": 60,
   "metadata": {},
   "outputs": [
    {
     "data": {
      "text/html": [
       "<div>\n",
       "<style>\n",
       "    .dataframe thead tr:only-child th {\n",
       "        text-align: right;\n",
       "    }\n",
       "\n",
       "    .dataframe thead th {\n",
       "        text-align: left;\n",
       "    }\n",
       "\n",
       "    .dataframe tbody tr th {\n",
       "        vertical-align: top;\n",
       "    }\n",
       "</style>\n",
       "<table border=\"1\" class=\"dataframe\">\n",
       "  <thead>\n",
       "    <tr style=\"text-align: right;\">\n",
       "      <th></th>\n",
       "      <th>Address</th>\n",
       "      <th>Style</th>\n",
       "      <th>Bedrms</th>\n",
       "      <th>Basement</th>\n",
       "      <th>Building Type</th>\n",
       "      <th>Sold Price</th>\n",
       "      <th>Baths Full</th>\n",
       "      <th>List Price</th>\n",
       "      <th>Tax Amount</th>\n",
       "      <th>MLS® Number</th>\n",
       "      <th>...</th>\n",
       "      <th>Yr Built</th>\n",
       "      <th>Community</th>\n",
       "      <th>Beds Total</th>\n",
       "      <th>Construction Type</th>\n",
       "      <th>Tot Flr Area AG Metres</th>\n",
       "      <th>Baths Half</th>\n",
       "      <th>Median assessed value</th>\n",
       "      <th>Cul-De-Sac</th>\n",
       "      <th>Playground Nearby</th>\n",
       "      <th>Golf Nearby</th>\n",
       "    </tr>\n",
       "  </thead>\n",
       "  <tbody>\n",
       "  </tbody>\n",
       "</table>\n",
       "<p>0 rows × 23 columns</p>\n",
       "</div>"
      ],
      "text/plain": [
       "Empty DataFrame\n",
       "Columns: [Address, Style, Bedrms, Basement, Building Type, Sold Price, Baths Full, List Price, Tax Amount, MLS® Number, day_sold, Total Parking, Site Influences, Yr Built, Community, Beds Total, Construction Type, Tot Flr Area AG Metres, Baths Half, Median assessed value, Cul-De-Sac, Playground Nearby, Golf Nearby]\n",
       "Index: []\n",
       "\n",
       "[0 rows x 23 columns]"
      ]
     },
     "execution_count": 60,
     "metadata": {},
     "output_type": "execute_result"
    }
   ],
   "source": [
    "df_clean[df_clean[\"Total Parking\"]=='4321']"
   ]
  },
  {
   "cell_type": "code",
   "execution_count": 61,
   "metadata": {
    "collapsed": true
   },
   "outputs": [],
   "source": [
    "df_clean.to_csv(\"./data/mls_new01.csv\", encoding='utf-8', index=False)"
   ]
  },
  {
   "cell_type": "code",
   "execution_count": null,
   "metadata": {
    "collapsed": true
   },
   "outputs": [],
   "source": []
  },
  {
   "cell_type": "code",
   "execution_count": 62,
   "metadata": {
    "collapsed": true
   },
   "outputs": [],
   "source": [
    "import numpy as np\n",
    "import pandas as pd\n",
    "import datetime"
   ]
  },
  {
   "cell_type": "code",
   "execution_count": 63,
   "metadata": {
    "collapsed": true
   },
   "outputs": [],
   "source": [
    "df = pd.read_csv(\"./data/mls_new01.csv\")"
   ]
  },
  {
   "cell_type": "code",
   "execution_count": 64,
   "metadata": {},
   "outputs": [
    {
     "data": {
      "text/plain": [
       "Index(['Address', 'Style', 'Bedrms', 'Basement', 'Building Type', 'Sold Price',\n",
       "       'Baths Full', 'List Price', 'Tax Amount', 'MLS® Number', 'day_sold',\n",
       "       'Total Parking', 'Site Influences', 'Yr Built', 'Community',\n",
       "       'Beds Total', 'Construction Type', 'Tot Flr Area AG Metres',\n",
       "       'Baths Half', 'Median assessed value', 'Cul-De-Sac',\n",
       "       'Playground Nearby', 'Golf Nearby'],\n",
       "      dtype='object')"
      ]
     },
     "execution_count": 64,
     "metadata": {},
     "output_type": "execute_result"
    }
   ],
   "source": [
    "df.columns"
   ]
  },
  {
   "cell_type": "code",
   "execution_count": 65,
   "metadata": {},
   "outputs": [
    {
     "data": {
      "text/html": [
       "<div>\n",
       "<style>\n",
       "    .dataframe thead tr:only-child th {\n",
       "        text-align: right;\n",
       "    }\n",
       "\n",
       "    .dataframe thead th {\n",
       "        text-align: left;\n",
       "    }\n",
       "\n",
       "    .dataframe tbody tr th {\n",
       "        vertical-align: top;\n",
       "    }\n",
       "</style>\n",
       "<table border=\"1\" class=\"dataframe\">\n",
       "  <thead>\n",
       "    <tr style=\"text-align: right;\">\n",
       "      <th></th>\n",
       "      <th>Address</th>\n",
       "      <th>Style</th>\n",
       "      <th>Bedrms</th>\n",
       "      <th>Basement</th>\n",
       "      <th>Building Type</th>\n",
       "      <th>Sold Price</th>\n",
       "      <th>Baths Full</th>\n",
       "      <th>List Price</th>\n",
       "      <th>Tax Amount</th>\n",
       "      <th>MLS® Number</th>\n",
       "      <th>...</th>\n",
       "      <th>Yr Built</th>\n",
       "      <th>Community</th>\n",
       "      <th>Beds Total</th>\n",
       "      <th>Construction Type</th>\n",
       "      <th>Tot Flr Area AG Metres</th>\n",
       "      <th>Baths Half</th>\n",
       "      <th>Median assessed value</th>\n",
       "      <th>Cul-De-Sac</th>\n",
       "      <th>Playground Nearby</th>\n",
       "      <th>Golf Nearby</th>\n",
       "    </tr>\n",
       "  </thead>\n",
       "  <tbody>\n",
       "    <tr>\n",
       "      <th>0</th>\n",
       "      <td>711 SCHUBERT, Calgary, Alberta T3L 1X4</td>\n",
       "      <td>Bi-Level</td>\n",
       "      <td>4</td>\n",
       "      <td>Full</td>\n",
       "      <td>Detached</td>\n",
       "      <td>$530,000</td>\n",
       "      <td>3</td>\n",
       "      <td>$549,900</td>\n",
       "      <td>$2,710</td>\n",
       "      <td>C4123006</td>\n",
       "      <td>...</td>\n",
       "      <td>1993</td>\n",
       "      <td>Scenic Acres</td>\n",
       "      <td>4</td>\n",
       "      <td>Wood Frame</td>\n",
       "      <td>121.982</td>\n",
       "      <td>0</td>\n",
       "      <td>528000.0</td>\n",
       "      <td>True</td>\n",
       "      <td>False</td>\n",
       "      <td>True</td>\n",
       "    </tr>\n",
       "    <tr>\n",
       "      <th>1</th>\n",
       "      <td>23 BEDFORD, Calgary, Alberta t3k 1l2</td>\n",
       "      <td>Bi-Level</td>\n",
       "      <td>5</td>\n",
       "      <td>Full</td>\n",
       "      <td>Detached</td>\n",
       "      <td>$401,888</td>\n",
       "      <td>2</td>\n",
       "      <td>$389,900</td>\n",
       "      <td>$2,444</td>\n",
       "      <td>C4122649</td>\n",
       "      <td>...</td>\n",
       "      <td>1979</td>\n",
       "      <td>Beddington Heights</td>\n",
       "      <td>5</td>\n",
       "      <td>Wood Frame</td>\n",
       "      <td>115.757</td>\n",
       "      <td>1</td>\n",
       "      <td>355000.0</td>\n",
       "      <td>False</td>\n",
       "      <td>False</td>\n",
       "      <td>False</td>\n",
       "    </tr>\n",
       "    <tr>\n",
       "      <th>2</th>\n",
       "      <td>394 Chaparral ridge, Calgary, Alberta T2X 3X9</td>\n",
       "      <td>2 Storey</td>\n",
       "      <td>4</td>\n",
       "      <td>Full</td>\n",
       "      <td>Detached</td>\n",
       "      <td>$512,000</td>\n",
       "      <td>3</td>\n",
       "      <td>$525,000</td>\n",
       "      <td>$3,290</td>\n",
       "      <td>C4122725</td>\n",
       "      <td>...</td>\n",
       "      <td>2006</td>\n",
       "      <td>Chaparral</td>\n",
       "      <td>4</td>\n",
       "      <td>Wood Frame</td>\n",
       "      <td>173.729</td>\n",
       "      <td>1</td>\n",
       "      <td>492000.0</td>\n",
       "      <td>False</td>\n",
       "      <td>True</td>\n",
       "      <td>True</td>\n",
       "    </tr>\n",
       "    <tr>\n",
       "      <th>3</th>\n",
       "      <td>4920 22, Calgary, Alberta T2T 5G8</td>\n",
       "      <td>2 Storey</td>\n",
       "      <td>3</td>\n",
       "      <td>Full</td>\n",
       "      <td>Semi Detached</td>\n",
       "      <td>$707,500</td>\n",
       "      <td>3</td>\n",
       "      <td>$729,900</td>\n",
       "      <td>$4,176</td>\n",
       "      <td>C4122199</td>\n",
       "      <td>...</td>\n",
       "      <td>2005</td>\n",
       "      <td>Altadore</td>\n",
       "      <td>3</td>\n",
       "      <td>Wood Frame</td>\n",
       "      <td>156.913</td>\n",
       "      <td>1</td>\n",
       "      <td>776000.0</td>\n",
       "      <td>False</td>\n",
       "      <td>True</td>\n",
       "      <td>False</td>\n",
       "    </tr>\n",
       "    <tr>\n",
       "      <th>4</th>\n",
       "      <td>205 21, Calgary, Alberta t2e 1s5</td>\n",
       "      <td>Bungalow</td>\n",
       "      <td>5</td>\n",
       "      <td>Full</td>\n",
       "      <td>Detached</td>\n",
       "      <td>$502,000</td>\n",
       "      <td>2</td>\n",
       "      <td>$524,988</td>\n",
       "      <td>$2,966</td>\n",
       "      <td>C4121963</td>\n",
       "      <td>...</td>\n",
       "      <td>1968</td>\n",
       "      <td>Tuxedo Park</td>\n",
       "      <td>5</td>\n",
       "      <td>Concrete</td>\n",
       "      <td>106.746</td>\n",
       "      <td>0</td>\n",
       "      <td>464000.0</td>\n",
       "      <td>False</td>\n",
       "      <td>True</td>\n",
       "      <td>False</td>\n",
       "    </tr>\n",
       "  </tbody>\n",
       "</table>\n",
       "<p>5 rows × 23 columns</p>\n",
       "</div>"
      ],
      "text/plain": [
       "                                         Address     Style  Bedrms Basement  \\\n",
       "0         711 SCHUBERT, Calgary, Alberta T3L 1X4  Bi-Level       4     Full   \n",
       "1           23 BEDFORD, Calgary, Alberta t3k 1l2  Bi-Level       5     Full   \n",
       "2  394 Chaparral ridge, Calgary, Alberta T2X 3X9  2 Storey       4     Full   \n",
       "3              4920 22, Calgary, Alberta T2T 5G8  2 Storey       3     Full   \n",
       "4               205 21, Calgary, Alberta t2e 1s5  Bungalow       5     Full   \n",
       "\n",
       "   Building Type Sold Price  Baths Full List Price Tax Amount MLS® Number  \\\n",
       "0       Detached   $530,000           3   $549,900     $2,710    C4123006   \n",
       "1       Detached   $401,888           2   $389,900     $2,444    C4122649   \n",
       "2       Detached   $512,000           3   $525,000     $3,290    C4122725   \n",
       "3  Semi Detached   $707,500           3   $729,900     $4,176    C4122199   \n",
       "4       Detached   $502,000           2   $524,988     $2,966    C4121963   \n",
       "\n",
       "      ...      Yr Built           Community Beds Total  Construction Type  \\\n",
       "0     ...          1993        Scenic Acres          4         Wood Frame   \n",
       "1     ...          1979  Beddington Heights          5         Wood Frame   \n",
       "2     ...          2006           Chaparral          4         Wood Frame   \n",
       "3     ...          2005            Altadore          3         Wood Frame   \n",
       "4     ...          1968         Tuxedo Park          5           Concrete   \n",
       "\n",
       "  Tot Flr Area AG Metres  Baths Half Median assessed value Cul-De-Sac  \\\n",
       "0                121.982           0              528000.0       True   \n",
       "1                115.757           1              355000.0      False   \n",
       "2                173.729           1              492000.0      False   \n",
       "3                156.913           1              776000.0      False   \n",
       "4                106.746           0              464000.0      False   \n",
       "\n",
       "   Playground Nearby  Golf Nearby  \n",
       "0              False         True  \n",
       "1              False        False  \n",
       "2               True         True  \n",
       "3               True        False  \n",
       "4               True        False  \n",
       "\n",
       "[5 rows x 23 columns]"
      ]
     },
     "execution_count": 65,
     "metadata": {},
     "output_type": "execute_result"
    }
   ],
   "source": [
    "df.head()"
   ]
  },
  {
   "cell_type": "code",
   "execution_count": 66,
   "metadata": {
    "collapsed": true
   },
   "outputs": [],
   "source": [
    "del df[\"Site Influences\"]"
   ]
  },
  {
   "cell_type": "code",
   "execution_count": 67,
   "metadata": {},
   "outputs": [
    {
     "data": {
      "text/html": [
       "<div>\n",
       "<style>\n",
       "    .dataframe thead tr:only-child th {\n",
       "        text-align: right;\n",
       "    }\n",
       "\n",
       "    .dataframe thead th {\n",
       "        text-align: left;\n",
       "    }\n",
       "\n",
       "    .dataframe tbody tr th {\n",
       "        vertical-align: top;\n",
       "    }\n",
       "</style>\n",
       "<table border=\"1\" class=\"dataframe\">\n",
       "  <thead>\n",
       "    <tr style=\"text-align: right;\">\n",
       "      <th></th>\n",
       "      <th>Address</th>\n",
       "      <th>Style</th>\n",
       "      <th>Bedrms</th>\n",
       "      <th>Basement</th>\n",
       "      <th>Building Type</th>\n",
       "      <th>Sold Price</th>\n",
       "      <th>Baths Full</th>\n",
       "      <th>List Price</th>\n",
       "      <th>Tax Amount</th>\n",
       "      <th>MLS® Number</th>\n",
       "      <th>...</th>\n",
       "      <th>Yr Built</th>\n",
       "      <th>Community</th>\n",
       "      <th>Beds Total</th>\n",
       "      <th>Construction Type</th>\n",
       "      <th>Tot Flr Area AG Metres</th>\n",
       "      <th>Baths Half</th>\n",
       "      <th>Median assessed value</th>\n",
       "      <th>Cul-De-Sac</th>\n",
       "      <th>Playground Nearby</th>\n",
       "      <th>Golf Nearby</th>\n",
       "    </tr>\n",
       "  </thead>\n",
       "  <tbody>\n",
       "    <tr>\n",
       "      <th>0</th>\n",
       "      <td>711 SCHUBERT, Calgary, Alberta T3L 1X4</td>\n",
       "      <td>Bi-Level</td>\n",
       "      <td>4</td>\n",
       "      <td>Full</td>\n",
       "      <td>Detached</td>\n",
       "      <td>$530,000</td>\n",
       "      <td>3</td>\n",
       "      <td>$549,900</td>\n",
       "      <td>$2,710</td>\n",
       "      <td>C4123006</td>\n",
       "      <td>...</td>\n",
       "      <td>1993</td>\n",
       "      <td>Scenic Acres</td>\n",
       "      <td>4</td>\n",
       "      <td>Wood Frame</td>\n",
       "      <td>121.982</td>\n",
       "      <td>0</td>\n",
       "      <td>528000.0</td>\n",
       "      <td>True</td>\n",
       "      <td>False</td>\n",
       "      <td>True</td>\n",
       "    </tr>\n",
       "    <tr>\n",
       "      <th>1</th>\n",
       "      <td>23 BEDFORD, Calgary, Alberta t3k 1l2</td>\n",
       "      <td>Bi-Level</td>\n",
       "      <td>5</td>\n",
       "      <td>Full</td>\n",
       "      <td>Detached</td>\n",
       "      <td>$401,888</td>\n",
       "      <td>2</td>\n",
       "      <td>$389,900</td>\n",
       "      <td>$2,444</td>\n",
       "      <td>C4122649</td>\n",
       "      <td>...</td>\n",
       "      <td>1979</td>\n",
       "      <td>Beddington Heights</td>\n",
       "      <td>5</td>\n",
       "      <td>Wood Frame</td>\n",
       "      <td>115.757</td>\n",
       "      <td>1</td>\n",
       "      <td>355000.0</td>\n",
       "      <td>False</td>\n",
       "      <td>False</td>\n",
       "      <td>False</td>\n",
       "    </tr>\n",
       "    <tr>\n",
       "      <th>2</th>\n",
       "      <td>394 Chaparral ridge, Calgary, Alberta T2X 3X9</td>\n",
       "      <td>2 Storey</td>\n",
       "      <td>4</td>\n",
       "      <td>Full</td>\n",
       "      <td>Detached</td>\n",
       "      <td>$512,000</td>\n",
       "      <td>3</td>\n",
       "      <td>$525,000</td>\n",
       "      <td>$3,290</td>\n",
       "      <td>C4122725</td>\n",
       "      <td>...</td>\n",
       "      <td>2006</td>\n",
       "      <td>Chaparral</td>\n",
       "      <td>4</td>\n",
       "      <td>Wood Frame</td>\n",
       "      <td>173.729</td>\n",
       "      <td>1</td>\n",
       "      <td>492000.0</td>\n",
       "      <td>False</td>\n",
       "      <td>True</td>\n",
       "      <td>True</td>\n",
       "    </tr>\n",
       "    <tr>\n",
       "      <th>3</th>\n",
       "      <td>4920 22, Calgary, Alberta T2T 5G8</td>\n",
       "      <td>2 Storey</td>\n",
       "      <td>3</td>\n",
       "      <td>Full</td>\n",
       "      <td>Semi Detached</td>\n",
       "      <td>$707,500</td>\n",
       "      <td>3</td>\n",
       "      <td>$729,900</td>\n",
       "      <td>$4,176</td>\n",
       "      <td>C4122199</td>\n",
       "      <td>...</td>\n",
       "      <td>2005</td>\n",
       "      <td>Altadore</td>\n",
       "      <td>3</td>\n",
       "      <td>Wood Frame</td>\n",
       "      <td>156.913</td>\n",
       "      <td>1</td>\n",
       "      <td>776000.0</td>\n",
       "      <td>False</td>\n",
       "      <td>True</td>\n",
       "      <td>False</td>\n",
       "    </tr>\n",
       "    <tr>\n",
       "      <th>4</th>\n",
       "      <td>205 21, Calgary, Alberta t2e 1s5</td>\n",
       "      <td>Bungalow</td>\n",
       "      <td>5</td>\n",
       "      <td>Full</td>\n",
       "      <td>Detached</td>\n",
       "      <td>$502,000</td>\n",
       "      <td>2</td>\n",
       "      <td>$524,988</td>\n",
       "      <td>$2,966</td>\n",
       "      <td>C4121963</td>\n",
       "      <td>...</td>\n",
       "      <td>1968</td>\n",
       "      <td>Tuxedo Park</td>\n",
       "      <td>5</td>\n",
       "      <td>Concrete</td>\n",
       "      <td>106.746</td>\n",
       "      <td>0</td>\n",
       "      <td>464000.0</td>\n",
       "      <td>False</td>\n",
       "      <td>True</td>\n",
       "      <td>False</td>\n",
       "    </tr>\n",
       "  </tbody>\n",
       "</table>\n",
       "<p>5 rows × 22 columns</p>\n",
       "</div>"
      ],
      "text/plain": [
       "                                         Address     Style  Bedrms Basement  \\\n",
       "0         711 SCHUBERT, Calgary, Alberta T3L 1X4  Bi-Level       4     Full   \n",
       "1           23 BEDFORD, Calgary, Alberta t3k 1l2  Bi-Level       5     Full   \n",
       "2  394 Chaparral ridge, Calgary, Alberta T2X 3X9  2 Storey       4     Full   \n",
       "3              4920 22, Calgary, Alberta T2T 5G8  2 Storey       3     Full   \n",
       "4               205 21, Calgary, Alberta t2e 1s5  Bungalow       5     Full   \n",
       "\n",
       "   Building Type Sold Price  Baths Full List Price Tax Amount MLS® Number  \\\n",
       "0       Detached   $530,000           3   $549,900     $2,710    C4123006   \n",
       "1       Detached   $401,888           2   $389,900     $2,444    C4122649   \n",
       "2       Detached   $512,000           3   $525,000     $3,290    C4122725   \n",
       "3  Semi Detached   $707,500           3   $729,900     $4,176    C4122199   \n",
       "4       Detached   $502,000           2   $524,988     $2,966    C4121963   \n",
       "\n",
       "      ...      Yr Built           Community  Beds Total Construction Type  \\\n",
       "0     ...          1993        Scenic Acres           4        Wood Frame   \n",
       "1     ...          1979  Beddington Heights           5        Wood Frame   \n",
       "2     ...          2006           Chaparral           4        Wood Frame   \n",
       "3     ...          2005            Altadore           3        Wood Frame   \n",
       "4     ...          1968         Tuxedo Park           5          Concrete   \n",
       "\n",
       "   Tot Flr Area AG Metres Baths Half Median assessed value  Cul-De-Sac  \\\n",
       "0                 121.982          0              528000.0        True   \n",
       "1                 115.757          1              355000.0       False   \n",
       "2                 173.729          1              492000.0       False   \n",
       "3                 156.913          1              776000.0       False   \n",
       "4                 106.746          0              464000.0       False   \n",
       "\n",
       "   Playground Nearby  Golf Nearby  \n",
       "0              False         True  \n",
       "1              False        False  \n",
       "2               True         True  \n",
       "3               True        False  \n",
       "4               True        False  \n",
       "\n",
       "[5 rows x 22 columns]"
      ]
     },
     "execution_count": 67,
     "metadata": {},
     "output_type": "execute_result"
    }
   ],
   "source": [
    "df.head()"
   ]
  },
  {
   "cell_type": "markdown",
   "metadata": {},
   "source": [
    "### Remove Style anomaly"
   ]
  },
  {
   "cell_type": "code",
   "execution_count": 68,
   "metadata": {},
   "outputs": [
    {
     "data": {
      "text/html": [
       "<div>\n",
       "<style>\n",
       "    .dataframe thead tr:only-child th {\n",
       "        text-align: right;\n",
       "    }\n",
       "\n",
       "    .dataframe thead th {\n",
       "        text-align: left;\n",
       "    }\n",
       "\n",
       "    .dataframe tbody tr th {\n",
       "        vertical-align: top;\n",
       "    }\n",
       "</style>\n",
       "<table border=\"1\" class=\"dataframe\">\n",
       "  <thead>\n",
       "    <tr style=\"text-align: right;\">\n",
       "      <th></th>\n",
       "      <th>Address</th>\n",
       "      <th>Style</th>\n",
       "      <th>Bedrms</th>\n",
       "      <th>Basement</th>\n",
       "      <th>Building Type</th>\n",
       "      <th>Sold Price</th>\n",
       "      <th>Baths Full</th>\n",
       "      <th>List Price</th>\n",
       "      <th>Tax Amount</th>\n",
       "      <th>MLS® Number</th>\n",
       "      <th>...</th>\n",
       "      <th>Yr Built</th>\n",
       "      <th>Community</th>\n",
       "      <th>Beds Total</th>\n",
       "      <th>Construction Type</th>\n",
       "      <th>Tot Flr Area AG Metres</th>\n",
       "      <th>Baths Half</th>\n",
       "      <th>Median assessed value</th>\n",
       "      <th>Cul-De-Sac</th>\n",
       "      <th>Playground Nearby</th>\n",
       "      <th>Golf Nearby</th>\n",
       "    </tr>\n",
       "  </thead>\n",
       "  <tbody>\n",
       "    <tr>\n",
       "      <th>7023</th>\n",
       "      <td>801 23, Calgary, Alberta T2G 1N9</td>\n",
       "      <td>Not Applicable</td>\n",
       "      <td>3</td>\n",
       "      <td>Full</td>\n",
       "      <td>Detached</td>\n",
       "      <td>$475,000</td>\n",
       "      <td>0</td>\n",
       "      <td>$499,900</td>\n",
       "      <td>$2,446</td>\n",
       "      <td>C3583185</td>\n",
       "      <td>...</td>\n",
       "      <td>1927</td>\n",
       "      <td>Ramsay</td>\n",
       "      <td>3</td>\n",
       "      <td>Wood Frame</td>\n",
       "      <td>84.000</td>\n",
       "      <td>0</td>\n",
       "      <td>456000.0</td>\n",
       "      <td>False</td>\n",
       "      <td>False</td>\n",
       "      <td>False</td>\n",
       "    </tr>\n",
       "    <tr>\n",
       "      <th>7808</th>\n",
       "      <td>2007 29, Calgary, Alberta T2T 1N4</td>\n",
       "      <td>Not Applicable</td>\n",
       "      <td>3</td>\n",
       "      <td>Walkout</td>\n",
       "      <td>Semi Detached</td>\n",
       "      <td>$1,250,000</td>\n",
       "      <td>3</td>\n",
       "      <td>$1,278,000</td>\n",
       "      <td>$7,207</td>\n",
       "      <td>C3580368</td>\n",
       "      <td>...</td>\n",
       "      <td>2007</td>\n",
       "      <td>South Calgary</td>\n",
       "      <td>3</td>\n",
       "      <td>Concrete Insulated</td>\n",
       "      <td>226.500</td>\n",
       "      <td>0</td>\n",
       "      <td>517000.0</td>\n",
       "      <td>False</td>\n",
       "      <td>False</td>\n",
       "      <td>False</td>\n",
       "    </tr>\n",
       "  </tbody>\n",
       "</table>\n",
       "<p>2 rows × 22 columns</p>\n",
       "</div>"
      ],
      "text/plain": [
       "                                Address           Style  Bedrms Basement  \\\n",
       "7023   801 23, Calgary, Alberta T2G 1N9  Not Applicable       3     Full   \n",
       "7808  2007 29, Calgary, Alberta T2T 1N4  Not Applicable       3  Walkout   \n",
       "\n",
       "      Building Type  Sold Price  Baths Full  List Price Tax Amount  \\\n",
       "7023       Detached    $475,000           0    $499,900     $2,446   \n",
       "7808  Semi Detached  $1,250,000           3  $1,278,000     $7,207   \n",
       "\n",
       "     MLS® Number     ...      Yr Built      Community  Beds Total  \\\n",
       "7023    C3583185     ...          1927         Ramsay           3   \n",
       "7808    C3580368     ...          2007  South Calgary           3   \n",
       "\n",
       "       Construction Type  Tot Flr Area AG Metres Baths Half  \\\n",
       "7023          Wood Frame                  84.000          0   \n",
       "7808  Concrete Insulated                 226.500          0   \n",
       "\n",
       "     Median assessed value  Cul-De-Sac  Playground Nearby  Golf Nearby  \n",
       "7023              456000.0       False              False        False  \n",
       "7808              517000.0       False              False        False  \n",
       "\n",
       "[2 rows x 22 columns]"
      ]
     },
     "execution_count": 68,
     "metadata": {},
     "output_type": "execute_result"
    }
   ],
   "source": [
    "df[df[\"Style\"]==\"Not Applicable\"]"
   ]
  },
  {
   "cell_type": "code",
   "execution_count": 69,
   "metadata": {
    "collapsed": true
   },
   "outputs": [],
   "source": [
    "df_t = df[df[\"Style\"]!=\"Not Applicable\"]"
   ]
  },
  {
   "cell_type": "code",
   "execution_count": 70,
   "metadata": {},
   "outputs": [
    {
     "name": "stderr",
     "output_type": "stream",
     "text": [
      "/home/tiger/anaconda3/lib/python3.6/site-packages/ipykernel_launcher.py:1: SettingWithCopyWarning: \n",
      "A value is trying to be set on a copy of a slice from a DataFrame.\n",
      "Try using .loc[row_indexer,col_indexer] = value instead\n",
      "\n",
      "See the caveats in the documentation: http://pandas.pydata.org/pandas-docs/stable/indexing.html#indexing-view-versus-copy\n",
      "  \"\"\"Entry point for launching an IPython kernel.\n",
      "/home/tiger/anaconda3/lib/python3.6/site-packages/ipykernel_launcher.py:2: SettingWithCopyWarning: \n",
      "A value is trying to be set on a copy of a slice from a DataFrame.\n",
      "Try using .loc[row_indexer,col_indexer] = value instead\n",
      "\n",
      "See the caveats in the documentation: http://pandas.pydata.org/pandas-docs/stable/indexing.html#indexing-view-versus-copy\n",
      "  \n",
      "/home/tiger/anaconda3/lib/python3.6/site-packages/ipykernel_launcher.py:3: SettingWithCopyWarning: \n",
      "A value is trying to be set on a copy of a slice from a DataFrame.\n",
      "Try using .loc[row_indexer,col_indexer] = value instead\n",
      "\n",
      "See the caveats in the documentation: http://pandas.pydata.org/pandas-docs/stable/indexing.html#indexing-view-versus-copy\n",
      "  This is separate from the ipykernel package so we can avoid doing imports until\n",
      "/home/tiger/anaconda3/lib/python3.6/site-packages/ipykernel_launcher.py:4: SettingWithCopyWarning: \n",
      "A value is trying to be set on a copy of a slice from a DataFrame.\n",
      "Try using .loc[row_indexer,col_indexer] = value instead\n",
      "\n",
      "See the caveats in the documentation: http://pandas.pydata.org/pandas-docs/stable/indexing.html#indexing-view-versus-copy\n",
      "  after removing the cwd from sys.path.\n"
     ]
    }
   ],
   "source": [
    "df_t[\"Building Type\"] = df_t[\"Building Type\"].astype('category')\n",
    "df_t[\"Style\"] = df_t[\"Style\"].astype('category')\n",
    "df_t[\"Basement\"] = df_t[\"Basement\"].astype('category')\n",
    "df_t[\"Construction Type\"] = df_t[\"Construction Type\"].astype('category')\n"
   ]
  },
  {
   "cell_type": "markdown",
   "metadata": {},
   "source": [
    "### pro-process numeric features"
   ]
  },
  {
   "cell_type": "code",
   "execution_count": 71,
   "metadata": {},
   "outputs": [
    {
     "name": "stderr",
     "output_type": "stream",
     "text": [
      "/home/tiger/anaconda3/lib/python3.6/site-packages/ipykernel_launcher.py:1: SettingWithCopyWarning: \n",
      "A value is trying to be set on a copy of a slice from a DataFrame.\n",
      "Try using .loc[row_indexer,col_indexer] = value instead\n",
      "\n",
      "See the caveats in the documentation: http://pandas.pydata.org/pandas-docs/stable/indexing.html#indexing-view-versus-copy\n",
      "  \"\"\"Entry point for launching an IPython kernel.\n",
      "/home/tiger/anaconda3/lib/python3.6/site-packages/ipykernel_launcher.py:2: SettingWithCopyWarning: \n",
      "A value is trying to be set on a copy of a slice from a DataFrame.\n",
      "Try using .loc[row_indexer,col_indexer] = value instead\n",
      "\n",
      "See the caveats in the documentation: http://pandas.pydata.org/pandas-docs/stable/indexing.html#indexing-view-versus-copy\n",
      "  \n"
     ]
    }
   ],
   "source": [
    "df_t[\"Tot Flr Area AG Metres\"] = df_t[\"Tot Flr Area AG Metres\"].str.replace(\",\", \"\")\n",
    "df_t[\"Tot Flr Area AG Metres\"] = df_t[\"Tot Flr Area AG Metres\"].astype('float64')"
   ]
  },
  {
   "cell_type": "markdown",
   "metadata": {},
   "source": [
    "### remove outliners"
   ]
  },
  {
   "cell_type": "code",
   "execution_count": 72,
   "metadata": {},
   "outputs": [
    {
     "data": {
      "text/html": [
       "<div>\n",
       "<style>\n",
       "    .dataframe thead tr:only-child th {\n",
       "        text-align: right;\n",
       "    }\n",
       "\n",
       "    .dataframe thead th {\n",
       "        text-align: left;\n",
       "    }\n",
       "\n",
       "    .dataframe tbody tr th {\n",
       "        vertical-align: top;\n",
       "    }\n",
       "</style>\n",
       "<table border=\"1\" class=\"dataframe\">\n",
       "  <thead>\n",
       "    <tr style=\"text-align: right;\">\n",
       "      <th></th>\n",
       "      <th>Address</th>\n",
       "      <th>Style</th>\n",
       "      <th>Bedrms</th>\n",
       "      <th>Basement</th>\n",
       "      <th>Building Type</th>\n",
       "      <th>Sold Price</th>\n",
       "      <th>Baths Full</th>\n",
       "      <th>List Price</th>\n",
       "      <th>Tax Amount</th>\n",
       "      <th>MLS® Number</th>\n",
       "      <th>...</th>\n",
       "      <th>Yr Built</th>\n",
       "      <th>Community</th>\n",
       "      <th>Beds Total</th>\n",
       "      <th>Construction Type</th>\n",
       "      <th>Tot Flr Area AG Metres</th>\n",
       "      <th>Baths Half</th>\n",
       "      <th>Median assessed value</th>\n",
       "      <th>Cul-De-Sac</th>\n",
       "      <th>Playground Nearby</th>\n",
       "      <th>Golf Nearby</th>\n",
       "    </tr>\n",
       "  </thead>\n",
       "  <tbody>\n",
       "    <tr>\n",
       "      <th>614</th>\n",
       "      <td>96 COVERTON, Calgary, Alberta T3K 4P4</td>\n",
       "      <td>2 Storey</td>\n",
       "      <td>4</td>\n",
       "      <td>Full</td>\n",
       "      <td>Detached</td>\n",
       "      <td>$390,000</td>\n",
       "      <td>1</td>\n",
       "      <td>$392,900</td>\n",
       "      <td>$2,264</td>\n",
       "      <td>C4066759</td>\n",
       "      <td>...</td>\n",
       "      <td>1997</td>\n",
       "      <td>Coventry Hills</td>\n",
       "      <td>4</td>\n",
       "      <td>Wood Frame</td>\n",
       "      <td>126.534</td>\n",
       "      <td>1</td>\n",
       "      <td>409000.0</td>\n",
       "      <td>False</td>\n",
       "      <td>True</td>\n",
       "      <td>False</td>\n",
       "    </tr>\n",
       "  </tbody>\n",
       "</table>\n",
       "<p>1 rows × 22 columns</p>\n",
       "</div>"
      ],
      "text/plain": [
       "                                   Address     Style  Bedrms Basement  \\\n",
       "614  96 COVERTON, Calgary, Alberta T3K 4P4  2 Storey       4     Full   \n",
       "\n",
       "    Building Type Sold Price  Baths Full List Price Tax Amount MLS® Number  \\\n",
       "614      Detached   $390,000           1   $392,900     $2,264    C4066759   \n",
       "\n",
       "        ...      Yr Built       Community  Beds Total Construction Type  \\\n",
       "614     ...          1997  Coventry Hills           4        Wood Frame   \n",
       "\n",
       "     Tot Flr Area AG Metres Baths Half  Median assessed value  Cul-De-Sac  \\\n",
       "614                 126.534          1               409000.0       False   \n",
       "\n",
       "     Playground Nearby  Golf Nearby  \n",
       "614               True        False  \n",
       "\n",
       "[1 rows x 22 columns]"
      ]
     },
     "execution_count": 72,
     "metadata": {},
     "output_type": "execute_result"
    }
   ],
   "source": [
    "df_t[df_t[\"Total Parking\"]=='4,321']\n"
   ]
  },
  {
   "cell_type": "markdown",
   "metadata": {},
   "source": [
    "### remove Total Parking typo"
   ]
  },
  {
   "cell_type": "code",
   "execution_count": 73,
   "metadata": {
    "collapsed": true
   },
   "outputs": [],
   "source": [
    "\n",
    "df_t = df_t[df_t[\"Total Parking\"]!='4,321']"
   ]
  },
  {
   "cell_type": "code",
   "execution_count": null,
   "metadata": {
    "collapsed": true
   },
   "outputs": [],
   "source": []
  },
  {
   "cell_type": "code",
   "execution_count": 74,
   "metadata": {
    "collapsed": true
   },
   "outputs": [],
   "source": [
    "df_t[\"Total Parking\"] = df_t[\"Total Parking\"].astype(int)"
   ]
  },
  {
   "cell_type": "code",
   "execution_count": 75,
   "metadata": {
    "collapsed": true
   },
   "outputs": [],
   "source": [
    "#df_t[\"day_sold\"] = pd.to_datetime(df_t[\"day_sold\"])"
   ]
  },
  {
   "cell_type": "markdown",
   "metadata": {},
   "source": [
    "### Turn money value to numeric"
   ]
  },
  {
   "cell_type": "code",
   "execution_count": 76,
   "metadata": {
    "collapsed": true
   },
   "outputs": [],
   "source": [
    "df_t['List Price'] = df_t['List Price'].replace( '[\\$,)]','', regex=True ).replace( '[(]','-',   regex=True ).astype(float)"
   ]
  },
  {
   "cell_type": "code",
   "execution_count": 77,
   "metadata": {
    "collapsed": true
   },
   "outputs": [],
   "source": [
    "df_t['Sold Price'] = df_t['Sold Price'].replace( '[\\$,)]','', regex=True ).replace( '[(]','-',   regex=True ).astype(float)\n",
    "df_t['Tax Amount'] = df_t['Tax Amount'].replace( '[\\$,)]','', regex=True ).replace( '[(]','-',   regex=True ).astype(float)\n"
   ]
  },
  {
   "cell_type": "code",
   "execution_count": 78,
   "metadata": {},
   "outputs": [
    {
     "name": "stdout",
     "output_type": "stream",
     "text": [
      "(20217, 22)\n",
      "Address                     object\n",
      "Style                     category\n",
      "Bedrms                       int64\n",
      "Basement                  category\n",
      "Building Type             category\n",
      "Sold Price                 float64\n",
      "Baths Full                   int64\n",
      "List Price                 float64\n",
      "Tax Amount                 float64\n",
      "MLS® Number                 object\n",
      "day_sold                    object\n",
      "Total Parking                int64\n",
      "Yr Built                     int64\n",
      "Community                   object\n",
      "Beds Total                   int64\n",
      "Construction Type         category\n",
      "Tot Flr Area AG Metres     float64\n",
      "Baths Half                   int64\n",
      "Median assessed value      float64\n",
      "Cul-De-Sac                    bool\n",
      "Playground Nearby             bool\n",
      "Golf Nearby                   bool\n",
      "dtype: object\n"
     ]
    }
   ],
   "source": [
    "print(df_t.shape)\n",
    "print(df_t.dtypes)\n"
   ]
  },
  {
   "cell_type": "code",
   "execution_count": 79,
   "metadata": {
    "collapsed": true
   },
   "outputs": [],
   "source": [
    "df_t.to_csv(\"./data/mls_temp.csv\", encoding='utf-8', index=False)"
   ]
  },
  {
   "cell_type": "code",
   "execution_count": 80,
   "metadata": {
    "collapsed": true
   },
   "outputs": [],
   "source": [
    "df_new = pd.read_csv(\"./data/mls_temp.csv\")"
   ]
  },
  {
   "cell_type": "code",
   "execution_count": 81,
   "metadata": {},
   "outputs": [
    {
     "name": "stdout",
     "output_type": "stream",
     "text": [
      "Address                    object\n",
      "Style                      object\n",
      "Bedrms                      int64\n",
      "Basement                   object\n",
      "Building Type              object\n",
      "Sold Price                float64\n",
      "Baths Full                  int64\n",
      "List Price                float64\n",
      "Tax Amount                float64\n",
      "MLS® Number                object\n",
      "day_sold                   object\n",
      "Total Parking               int64\n",
      "Yr Built                    int64\n",
      "Community                  object\n",
      "Beds Total                  int64\n",
      "Construction Type          object\n",
      "Tot Flr Area AG Metres    float64\n",
      "Baths Half                  int64\n",
      "Median assessed value     float64\n",
      "Cul-De-Sac                   bool\n",
      "Playground Nearby            bool\n",
      "Golf Nearby                  bool\n",
      "dtype: object\n"
     ]
    }
   ],
   "source": [
    "print(df_new.dtypes)"
   ]
  },
  {
   "cell_type": "code",
   "execution_count": 82,
   "metadata": {},
   "outputs": [
    {
     "data": {
      "text/plain": [
       "Wood Frame            20019\n",
       "Concrete                153\n",
       "Concrete Block           19\n",
       "Modular                  12\n",
       "Brick                     8\n",
       "Log                       2\n",
       "Concrete Insulated        2\n",
       "Steel Frame               1\n",
       "Prefab                    1\n",
       "Name: Construction Type, dtype: int64"
      ]
     },
     "execution_count": 82,
     "metadata": {},
     "output_type": "execute_result"
    }
   ],
   "source": [
    "df_t[\"Construction Type\"].value_counts()"
   ]
  },
  {
   "cell_type": "code",
   "execution_count": 83,
   "metadata": {},
   "outputs": [
    {
     "data": {
      "text/plain": [
       "2 Storey             10502\n",
       "Bungalow              5286\n",
       "Bi-Level              1577\n",
       "4 Lvl Split           1328\n",
       "2 Sty Split            914\n",
       "1 & Half St            210\n",
       "3 Lvl Split            153\n",
       "3 Storey               114\n",
       "5 Lvl Split             68\n",
       "2 & Half St             44\n",
       "Single Level Unit        7\n",
       "Sng Wide Mob Hme         6\n",
       "Modular Home             6\n",
       "Stacked Townhouse        1\n",
       "Dbl Wide Mob Hm          1\n",
       "Name: Style, dtype: int64"
      ]
     },
     "execution_count": 83,
     "metadata": {},
     "output_type": "execute_result"
    }
   ],
   "source": [
    "df_t[\"Style\"].value_counts()"
   ]
  },
  {
   "cell_type": "code",
   "execution_count": 84,
   "metadata": {},
   "outputs": [
    {
     "data": {
      "text/plain": [
       "Full                          17245\n",
       "Full, Walkout                  1235\n",
       "Walkout                        1080\n",
       "Part                            347\n",
       "None                            101\n",
       "Crawl Space, Full                63\n",
       "Crawl Space, Part                37\n",
       "Dugout                           29\n",
       "Crawl Space                      26\n",
       "Crawl Space, Full, Walkout       14\n",
       "Part, Walkout                    10\n",
       "Dugout, Part                      7\n",
       "Crawl Space, Walkout              6\n",
       "Full, Part                        5\n",
       "Dugout, Full                      5\n",
       "Crawl Space, Dugout               4\n",
       "Crawl Space, None                 1\n",
       "None, Walkout                     1\n",
       "Crawl Space, Dugout, Part         1\n",
       "Name: Basement, dtype: int64"
      ]
     },
     "execution_count": 84,
     "metadata": {},
     "output_type": "execute_result"
    }
   ],
   "source": [
    "df_t[\"Basement\"].value_counts()"
   ]
  },
  {
   "cell_type": "code",
   "execution_count": 85,
   "metadata": {},
   "outputs": [
    {
     "data": {
      "text/plain": [
       "Detached               17695\n",
       "Semi Detached           2041\n",
       "Row                      465\n",
       "Single Wide                7\n",
       "Lowrise Apartment          6\n",
       "Double Wide                2\n",
       "High Rise Apartment        1\n",
       "Name: Building Type, dtype: int64"
      ]
     },
     "execution_count": 85,
     "metadata": {},
     "output_type": "execute_result"
    }
   ],
   "source": [
    "df_t[\"Building Type\"].value_counts()"
   ]
  },
  {
   "cell_type": "code",
   "execution_count": 86,
   "metadata": {
    "collapsed": true
   },
   "outputs": [],
   "source": [
    "#df_t[\"Cul-De-Sac\"]"
   ]
  },
  {
   "cell_type": "code",
   "execution_count": 87,
   "metadata": {
    "collapsed": true
   },
   "outputs": [],
   "source": [
    "# pd.get_dummies(df_t, columns=[\"Cul-De-Sac\", \"Playground Nearby\"], prefix=[\"Cul-De-Sac\", \"Playground\"]).head()\n"
   ]
  },
  {
   "cell_type": "markdown",
   "metadata": {},
   "source": [
    "### Use one-hot encoding to transfer categorical features"
   ]
  },
  {
   "cell_type": "code",
   "execution_count": 88,
   "metadata": {
    "collapsed": true
   },
   "outputs": [],
   "source": [
    "df_tc = pd.get_dummies(df_t, columns=[\"Style\", \"Basement\", \"Building Type\", \"Construction Type\"], prefix=[\"Style\", \"Basement\", \"Building\", \"Construction\"])"
   ]
  },
  {
   "cell_type": "code",
   "execution_count": null,
   "metadata": {
    "collapsed": true
   },
   "outputs": [],
   "source": []
  },
  {
   "cell_type": "code",
   "execution_count": 89,
   "metadata": {
    "collapsed": true
   },
   "outputs": [],
   "source": [
    "df_tc[\"Cul-De-Sac\"] = df_tc[\"Cul-De-Sac\"].astype(int)\n",
    "df_tc[\"Playground Nearby\"] = df_tc[\"Playground Nearby\"].astype(int)\n",
    "df_tc[\"Golf Nearby\"] = df_tc[\"Golf Nearby\"].astype(int)"
   ]
  },
  {
   "cell_type": "code",
   "execution_count": 90,
   "metadata": {},
   "outputs": [
    {
     "data": {
      "text/plain": [
       "Address                             object\n",
       "Bedrms                               int64\n",
       "Sold Price                         float64\n",
       "Baths Full                           int64\n",
       "List Price                         float64\n",
       "Tax Amount                         float64\n",
       "MLS® Number                         object\n",
       "day_sold                            object\n",
       "Total Parking                        int64\n",
       "Yr Built                             int64\n",
       "Community                           object\n",
       "Beds Total                           int64\n",
       "Tot Flr Area AG Metres             float64\n",
       "Baths Half                           int64\n",
       "Median assessed value              float64\n",
       "Cul-De-Sac                           int64\n",
       "Playground Nearby                    int64\n",
       "Golf Nearby                          int64\n",
       "Style_1 & Half St                    uint8\n",
       "Style_2 & Half St                    uint8\n",
       "Style_2 Storey                       uint8\n",
       "Style_2 Sty Split                    uint8\n",
       "Style_3 Lvl Split                    uint8\n",
       "Style_3 Storey                       uint8\n",
       "Style_4 Lvl Split                    uint8\n",
       "Style_5 Lvl Split                    uint8\n",
       "Style_Bi-Level                       uint8\n",
       "Style_Bungalow                       uint8\n",
       "Style_Dbl Wide Mob Hm                uint8\n",
       "Style_Modular Home                   uint8\n",
       "                                    ...   \n",
       "Basement_Crawl Space, None           uint8\n",
       "Basement_Crawl Space, Part           uint8\n",
       "Basement_Crawl Space, Walkout        uint8\n",
       "Basement_Dugout                      uint8\n",
       "Basement_Dugout, Full                uint8\n",
       "Basement_Dugout, Part                uint8\n",
       "Basement_Full                        uint8\n",
       "Basement_Full, Part                  uint8\n",
       "Basement_Full, Walkout               uint8\n",
       "Basement_None                        uint8\n",
       "Basement_None, Walkout               uint8\n",
       "Basement_Part                        uint8\n",
       "Basement_Part, Walkout               uint8\n",
       "Basement_Walkout                     uint8\n",
       "Building_Detached                    uint8\n",
       "Building_Double Wide                 uint8\n",
       "Building_High Rise Apartment         uint8\n",
       "Building_Lowrise Apartment           uint8\n",
       "Building_Row                         uint8\n",
       "Building_Semi Detached               uint8\n",
       "Building_Single Wide                 uint8\n",
       "Construction_Brick                   uint8\n",
       "Construction_Concrete                uint8\n",
       "Construction_Concrete Block          uint8\n",
       "Construction_Concrete Insulated      uint8\n",
       "Construction_Log                     uint8\n",
       "Construction_Modular                 uint8\n",
       "Construction_Prefab                  uint8\n",
       "Construction_Steel Frame             uint8\n",
       "Construction_Wood Frame              uint8\n",
       "Length: 68, dtype: object"
      ]
     },
     "execution_count": 90,
     "metadata": {},
     "output_type": "execute_result"
    }
   ],
   "source": [
    "df_tc.dtypes"
   ]
  },
  {
   "cell_type": "code",
   "execution_count": 91,
   "metadata": {},
   "outputs": [
    {
     "data": {
      "text/html": [
       "<div>\n",
       "<style>\n",
       "    .dataframe thead tr:only-child th {\n",
       "        text-align: right;\n",
       "    }\n",
       "\n",
       "    .dataframe thead th {\n",
       "        text-align: left;\n",
       "    }\n",
       "\n",
       "    .dataframe tbody tr th {\n",
       "        vertical-align: top;\n",
       "    }\n",
       "</style>\n",
       "<table border=\"1\" class=\"dataframe\">\n",
       "  <thead>\n",
       "    <tr style=\"text-align: right;\">\n",
       "      <th></th>\n",
       "      <th>Address</th>\n",
       "      <th>Bedrms</th>\n",
       "      <th>Sold Price</th>\n",
       "      <th>Baths Full</th>\n",
       "      <th>List Price</th>\n",
       "      <th>Tax Amount</th>\n",
       "      <th>MLS® Number</th>\n",
       "      <th>day_sold</th>\n",
       "      <th>Total Parking</th>\n",
       "      <th>Yr Built</th>\n",
       "      <th>...</th>\n",
       "      <th>Building_Single Wide</th>\n",
       "      <th>Construction_Brick</th>\n",
       "      <th>Construction_Concrete</th>\n",
       "      <th>Construction_Concrete Block</th>\n",
       "      <th>Construction_Concrete Insulated</th>\n",
       "      <th>Construction_Log</th>\n",
       "      <th>Construction_Modular</th>\n",
       "      <th>Construction_Prefab</th>\n",
       "      <th>Construction_Steel Frame</th>\n",
       "      <th>Construction_Wood Frame</th>\n",
       "    </tr>\n",
       "  </thead>\n",
       "  <tbody>\n",
       "    <tr>\n",
       "      <th>0</th>\n",
       "      <td>711 SCHUBERT, Calgary, Alberta T3L 1X4</td>\n",
       "      <td>4</td>\n",
       "      <td>530000.0</td>\n",
       "      <td>3</td>\n",
       "      <td>549900.0</td>\n",
       "      <td>2710.0</td>\n",
       "      <td>C4123006</td>\n",
       "      <td>08/02/2017</td>\n",
       "      <td>4</td>\n",
       "      <td>1993</td>\n",
       "      <td>...</td>\n",
       "      <td>0</td>\n",
       "      <td>0</td>\n",
       "      <td>0</td>\n",
       "      <td>0</td>\n",
       "      <td>0</td>\n",
       "      <td>0</td>\n",
       "      <td>0</td>\n",
       "      <td>0</td>\n",
       "      <td>0</td>\n",
       "      <td>1</td>\n",
       "    </tr>\n",
       "    <tr>\n",
       "      <th>1</th>\n",
       "      <td>23 BEDFORD, Calgary, Alberta t3k 1l2</td>\n",
       "      <td>5</td>\n",
       "      <td>401888.0</td>\n",
       "      <td>2</td>\n",
       "      <td>389900.0</td>\n",
       "      <td>2444.0</td>\n",
       "      <td>C4122649</td>\n",
       "      <td>06/23/2017</td>\n",
       "      <td>2</td>\n",
       "      <td>1979</td>\n",
       "      <td>...</td>\n",
       "      <td>0</td>\n",
       "      <td>0</td>\n",
       "      <td>0</td>\n",
       "      <td>0</td>\n",
       "      <td>0</td>\n",
       "      <td>0</td>\n",
       "      <td>0</td>\n",
       "      <td>0</td>\n",
       "      <td>0</td>\n",
       "      <td>1</td>\n",
       "    </tr>\n",
       "    <tr>\n",
       "      <th>2</th>\n",
       "      <td>394 Chaparral ridge, Calgary, Alberta T2X 3X9</td>\n",
       "      <td>4</td>\n",
       "      <td>512000.0</td>\n",
       "      <td>3</td>\n",
       "      <td>525000.0</td>\n",
       "      <td>3290.0</td>\n",
       "      <td>C4122725</td>\n",
       "      <td>07/02/2017</td>\n",
       "      <td>4</td>\n",
       "      <td>2006</td>\n",
       "      <td>...</td>\n",
       "      <td>0</td>\n",
       "      <td>0</td>\n",
       "      <td>0</td>\n",
       "      <td>0</td>\n",
       "      <td>0</td>\n",
       "      <td>0</td>\n",
       "      <td>0</td>\n",
       "      <td>0</td>\n",
       "      <td>0</td>\n",
       "      <td>1</td>\n",
       "    </tr>\n",
       "    <tr>\n",
       "      <th>3</th>\n",
       "      <td>4920 22, Calgary, Alberta T2T 5G8</td>\n",
       "      <td>3</td>\n",
       "      <td>707500.0</td>\n",
       "      <td>3</td>\n",
       "      <td>729900.0</td>\n",
       "      <td>4176.0</td>\n",
       "      <td>C4122199</td>\n",
       "      <td>08/18/2017</td>\n",
       "      <td>2</td>\n",
       "      <td>2005</td>\n",
       "      <td>...</td>\n",
       "      <td>0</td>\n",
       "      <td>0</td>\n",
       "      <td>0</td>\n",
       "      <td>0</td>\n",
       "      <td>0</td>\n",
       "      <td>0</td>\n",
       "      <td>0</td>\n",
       "      <td>0</td>\n",
       "      <td>0</td>\n",
       "      <td>1</td>\n",
       "    </tr>\n",
       "    <tr>\n",
       "      <th>4</th>\n",
       "      <td>205 21, Calgary, Alberta t2e 1s5</td>\n",
       "      <td>5</td>\n",
       "      <td>502000.0</td>\n",
       "      <td>2</td>\n",
       "      <td>524988.0</td>\n",
       "      <td>2966.0</td>\n",
       "      <td>C4121963</td>\n",
       "      <td>06/17/2017</td>\n",
       "      <td>2</td>\n",
       "      <td>1968</td>\n",
       "      <td>...</td>\n",
       "      <td>0</td>\n",
       "      <td>0</td>\n",
       "      <td>1</td>\n",
       "      <td>0</td>\n",
       "      <td>0</td>\n",
       "      <td>0</td>\n",
       "      <td>0</td>\n",
       "      <td>0</td>\n",
       "      <td>0</td>\n",
       "      <td>0</td>\n",
       "    </tr>\n",
       "  </tbody>\n",
       "</table>\n",
       "<p>5 rows × 68 columns</p>\n",
       "</div>"
      ],
      "text/plain": [
       "                                         Address  Bedrms  Sold Price  \\\n",
       "0         711 SCHUBERT, Calgary, Alberta T3L 1X4       4    530000.0   \n",
       "1           23 BEDFORD, Calgary, Alberta t3k 1l2       5    401888.0   \n",
       "2  394 Chaparral ridge, Calgary, Alberta T2X 3X9       4    512000.0   \n",
       "3              4920 22, Calgary, Alberta T2T 5G8       3    707500.0   \n",
       "4               205 21, Calgary, Alberta t2e 1s5       5    502000.0   \n",
       "\n",
       "   Baths Full  List Price  Tax Amount MLS® Number    day_sold  Total Parking  \\\n",
       "0           3    549900.0      2710.0    C4123006  08/02/2017              4   \n",
       "1           2    389900.0      2444.0    C4122649  06/23/2017              2   \n",
       "2           3    525000.0      3290.0    C4122725  07/02/2017              4   \n",
       "3           3    729900.0      4176.0    C4122199  08/18/2017              2   \n",
       "4           2    524988.0      2966.0    C4121963  06/17/2017              2   \n",
       "\n",
       "   Yr Built           ...            Building_Single Wide  Construction_Brick  \\\n",
       "0      1993           ...                               0                   0   \n",
       "1      1979           ...                               0                   0   \n",
       "2      2006           ...                               0                   0   \n",
       "3      2005           ...                               0                   0   \n",
       "4      1968           ...                               0                   0   \n",
       "\n",
       "   Construction_Concrete  Construction_Concrete Block  \\\n",
       "0                      0                            0   \n",
       "1                      0                            0   \n",
       "2                      0                            0   \n",
       "3                      0                            0   \n",
       "4                      1                            0   \n",
       "\n",
       "   Construction_Concrete Insulated  Construction_Log  Construction_Modular  \\\n",
       "0                                0                 0                     0   \n",
       "1                                0                 0                     0   \n",
       "2                                0                 0                     0   \n",
       "3                                0                 0                     0   \n",
       "4                                0                 0                     0   \n",
       "\n",
       "   Construction_Prefab  Construction_Steel Frame  Construction_Wood Frame  \n",
       "0                    0                         0                        1  \n",
       "1                    0                         0                        1  \n",
       "2                    0                         0                        1  \n",
       "3                    0                         0                        1  \n",
       "4                    0                         0                        0  \n",
       "\n",
       "[5 rows x 68 columns]"
      ]
     },
     "execution_count": 91,
     "metadata": {},
     "output_type": "execute_result"
    }
   ],
   "source": [
    "df_tc.head()"
   ]
  },
  {
   "cell_type": "code",
   "execution_count": 92,
   "metadata": {
    "collapsed": true
   },
   "outputs": [],
   "source": [
    "df_tc.to_csv(\"./data/mls_cat.csv\", encoding='utf-8', index=False)"
   ]
  },
  {
   "cell_type": "code",
   "execution_count": 93,
   "metadata": {},
   "outputs": [
    {
     "data": {
      "text/plain": [
       "Address                             object\n",
       "Bedrms                               int64\n",
       "Sold Price                         float64\n",
       "Baths Full                           int64\n",
       "List Price                         float64\n",
       "Tax Amount                         float64\n",
       "MLS® Number                         object\n",
       "day_sold                            object\n",
       "Total Parking                        int64\n",
       "Yr Built                             int64\n",
       "Community                           object\n",
       "Beds Total                           int64\n",
       "Tot Flr Area AG Metres             float64\n",
       "Baths Half                           int64\n",
       "Median assessed value              float64\n",
       "Cul-De-Sac                           int64\n",
       "Playground Nearby                    int64\n",
       "Golf Nearby                          int64\n",
       "Style_1 & Half St                    uint8\n",
       "Style_2 & Half St                    uint8\n",
       "Style_2 Storey                       uint8\n",
       "Style_2 Sty Split                    uint8\n",
       "Style_3 Lvl Split                    uint8\n",
       "Style_3 Storey                       uint8\n",
       "Style_4 Lvl Split                    uint8\n",
       "Style_5 Lvl Split                    uint8\n",
       "Style_Bi-Level                       uint8\n",
       "Style_Bungalow                       uint8\n",
       "Style_Dbl Wide Mob Hm                uint8\n",
       "Style_Modular Home                   uint8\n",
       "                                    ...   \n",
       "Basement_Crawl Space, None           uint8\n",
       "Basement_Crawl Space, Part           uint8\n",
       "Basement_Crawl Space, Walkout        uint8\n",
       "Basement_Dugout                      uint8\n",
       "Basement_Dugout, Full                uint8\n",
       "Basement_Dugout, Part                uint8\n",
       "Basement_Full                        uint8\n",
       "Basement_Full, Part                  uint8\n",
       "Basement_Full, Walkout               uint8\n",
       "Basement_None                        uint8\n",
       "Basement_None, Walkout               uint8\n",
       "Basement_Part                        uint8\n",
       "Basement_Part, Walkout               uint8\n",
       "Basement_Walkout                     uint8\n",
       "Building_Detached                    uint8\n",
       "Building_Double Wide                 uint8\n",
       "Building_High Rise Apartment         uint8\n",
       "Building_Lowrise Apartment           uint8\n",
       "Building_Row                         uint8\n",
       "Building_Semi Detached               uint8\n",
       "Building_Single Wide                 uint8\n",
       "Construction_Brick                   uint8\n",
       "Construction_Concrete                uint8\n",
       "Construction_Concrete Block          uint8\n",
       "Construction_Concrete Insulated      uint8\n",
       "Construction_Log                     uint8\n",
       "Construction_Modular                 uint8\n",
       "Construction_Prefab                  uint8\n",
       "Construction_Steel Frame             uint8\n",
       "Construction_Wood Frame              uint8\n",
       "Length: 68, dtype: object"
      ]
     },
     "execution_count": 93,
     "metadata": {},
     "output_type": "execute_result"
    }
   ],
   "source": [
    "df_tc.dtypes"
   ]
  },
  {
   "cell_type": "code",
   "execution_count": 94,
   "metadata": {
    "collapsed": true
   },
   "outputs": [],
   "source": [
    "del df_tc[\"Address\"]"
   ]
  },
  {
   "cell_type": "code",
   "execution_count": 95,
   "metadata": {
    "collapsed": true
   },
   "outputs": [],
   "source": [
    "del df_tc[\"MLS® Number\"]"
   ]
  },
  {
   "cell_type": "markdown",
   "metadata": {},
   "source": [
    "### Do not intend to exploring the temporal effect now"
   ]
  },
  {
   "cell_type": "code",
   "execution_count": 96,
   "metadata": {
    "collapsed": true
   },
   "outputs": [],
   "source": [
    "#do not intend to exploring the temporal effect now\n",
    "del df_tc[\"day_sold\"]"
   ]
  },
  {
   "cell_type": "code",
   "execution_count": 97,
   "metadata": {
    "collapsed": true
   },
   "outputs": [],
   "source": [
    "del df_tc[\"Community\"]\n",
    "del df_tc[\"Beds Total\"]"
   ]
  },
  {
   "cell_type": "code",
   "execution_count": 98,
   "metadata": {},
   "outputs": [
    {
     "data": {
      "text/plain": [
       "Bedrms                               int64\n",
       "Sold Price                         float64\n",
       "Baths Full                           int64\n",
       "List Price                         float64\n",
       "Tax Amount                         float64\n",
       "Total Parking                        int64\n",
       "Yr Built                             int64\n",
       "Tot Flr Area AG Metres             float64\n",
       "Baths Half                           int64\n",
       "Median assessed value              float64\n",
       "Cul-De-Sac                           int64\n",
       "Playground Nearby                    int64\n",
       "Golf Nearby                          int64\n",
       "Style_1 & Half St                    uint8\n",
       "Style_2 & Half St                    uint8\n",
       "Style_2 Storey                       uint8\n",
       "Style_2 Sty Split                    uint8\n",
       "Style_3 Lvl Split                    uint8\n",
       "Style_3 Storey                       uint8\n",
       "Style_4 Lvl Split                    uint8\n",
       "Style_5 Lvl Split                    uint8\n",
       "Style_Bi-Level                       uint8\n",
       "Style_Bungalow                       uint8\n",
       "Style_Dbl Wide Mob Hm                uint8\n",
       "Style_Modular Home                   uint8\n",
       "Style_Single Level Unit              uint8\n",
       "Style_Sng Wide Mob Hme               uint8\n",
       "Style_Stacked Townhouse              uint8\n",
       "Basement_Crawl Space                 uint8\n",
       "Basement_Crawl Space, Dugout         uint8\n",
       "                                    ...   \n",
       "Basement_Crawl Space, None           uint8\n",
       "Basement_Crawl Space, Part           uint8\n",
       "Basement_Crawl Space, Walkout        uint8\n",
       "Basement_Dugout                      uint8\n",
       "Basement_Dugout, Full                uint8\n",
       "Basement_Dugout, Part                uint8\n",
       "Basement_Full                        uint8\n",
       "Basement_Full, Part                  uint8\n",
       "Basement_Full, Walkout               uint8\n",
       "Basement_None                        uint8\n",
       "Basement_None, Walkout               uint8\n",
       "Basement_Part                        uint8\n",
       "Basement_Part, Walkout               uint8\n",
       "Basement_Walkout                     uint8\n",
       "Building_Detached                    uint8\n",
       "Building_Double Wide                 uint8\n",
       "Building_High Rise Apartment         uint8\n",
       "Building_Lowrise Apartment           uint8\n",
       "Building_Row                         uint8\n",
       "Building_Semi Detached               uint8\n",
       "Building_Single Wide                 uint8\n",
       "Construction_Brick                   uint8\n",
       "Construction_Concrete                uint8\n",
       "Construction_Concrete Block          uint8\n",
       "Construction_Concrete Insulated      uint8\n",
       "Construction_Log                     uint8\n",
       "Construction_Modular                 uint8\n",
       "Construction_Prefab                  uint8\n",
       "Construction_Steel Frame             uint8\n",
       "Construction_Wood Frame              uint8\n",
       "Length: 63, dtype: object"
      ]
     },
     "execution_count": 98,
     "metadata": {},
     "output_type": "execute_result"
    }
   ],
   "source": [
    "df_tc.dtypes"
   ]
  },
  {
   "cell_type": "markdown",
   "metadata": {},
   "source": [
    "## Manually check outliners "
   ]
  },
  {
   "cell_type": "code",
   "execution_count": 99,
   "metadata": {},
   "outputs": [
    {
     "data": {
      "text/plain": [
       "2981      0\n",
       "8531      0\n",
       "5444      0\n",
       "10436     0\n",
       "16155     0\n",
       "907       0\n",
       "5435      0\n",
       "11695     0\n",
       "915       0\n",
       "8530      0\n",
       "10423     0\n",
       "3121      0\n",
       "6601      0\n",
       "6602      0\n",
       "19373     0\n",
       "16164     0\n",
       "11691     0\n",
       "11611     0\n",
       "6631      0\n",
       "16985     0\n",
       "10371     0\n",
       "10459     0\n",
       "13456     0\n",
       "7977      0\n",
       "16101     0\n",
       "777       0\n",
       "4491      0\n",
       "7397      0\n",
       "18490     0\n",
       "14063     0\n",
       "         ..\n",
       "12888     8\n",
       "5697      8\n",
       "10989     9\n",
       "6875      9\n",
       "10988     9\n",
       "8200      9\n",
       "8827      9\n",
       "17713     9\n",
       "19273    10\n",
       "4338     10\n",
       "13713    10\n",
       "1935     10\n",
       "16179    10\n",
       "8210     10\n",
       "20103    10\n",
       "5691     10\n",
       "17133    10\n",
       "3554     10\n",
       "17134    10\n",
       "15250    10\n",
       "10403    12\n",
       "14505    12\n",
       "10402    12\n",
       "16304    20\n",
       "10281    22\n",
       "16356    23\n",
       "7775     36\n",
       "1273     41\n",
       "1274     41\n",
       "1932     99\n",
       "Name: Total Parking, Length: 20217, dtype: int64"
      ]
     },
     "execution_count": 99,
     "metadata": {},
     "output_type": "execute_result"
    }
   ],
   "source": [
    "df_tc.sort_values(\"Total Parking\", ascending = \"1\")[\"Total Parking\"]"
   ]
  },
  {
   "cell_type": "code",
   "execution_count": 100,
   "metadata": {
    "collapsed": true
   },
   "outputs": [],
   "source": [
    "df_tc = df_tc.drop(df_tc[df_tc[\"Total Parking\"] > 12].index)"
   ]
  },
  {
   "cell_type": "code",
   "execution_count": 101,
   "metadata": {},
   "outputs": [
    {
     "data": {
      "text/html": [
       "<div>\n",
       "<style>\n",
       "    .dataframe thead tr:only-child th {\n",
       "        text-align: right;\n",
       "    }\n",
       "\n",
       "    .dataframe thead th {\n",
       "        text-align: left;\n",
       "    }\n",
       "\n",
       "    .dataframe tbody tr th {\n",
       "        vertical-align: top;\n",
       "    }\n",
       "</style>\n",
       "<table border=\"1\" class=\"dataframe\">\n",
       "  <thead>\n",
       "    <tr style=\"text-align: right;\">\n",
       "      <th></th>\n",
       "      <th>Bedrms</th>\n",
       "      <th>Sold Price</th>\n",
       "      <th>Baths Full</th>\n",
       "      <th>List Price</th>\n",
       "      <th>Tax Amount</th>\n",
       "      <th>Total Parking</th>\n",
       "      <th>Yr Built</th>\n",
       "      <th>Tot Flr Area AG Metres</th>\n",
       "      <th>Baths Half</th>\n",
       "      <th>Median assessed value</th>\n",
       "      <th>...</th>\n",
       "      <th>Building_Single Wide</th>\n",
       "      <th>Construction_Brick</th>\n",
       "      <th>Construction_Concrete</th>\n",
       "      <th>Construction_Concrete Block</th>\n",
       "      <th>Construction_Concrete Insulated</th>\n",
       "      <th>Construction_Log</th>\n",
       "      <th>Construction_Modular</th>\n",
       "      <th>Construction_Prefab</th>\n",
       "      <th>Construction_Steel Frame</th>\n",
       "      <th>Construction_Wood Frame</th>\n",
       "    </tr>\n",
       "  </thead>\n",
       "  <tbody>\n",
       "    <tr>\n",
       "      <th>2266</th>\n",
       "      <td>3</td>\n",
       "      <td>442000.0</td>\n",
       "      <td>2</td>\n",
       "      <td>449900.0</td>\n",
       "      <td>2532.0</td>\n",
       "      <td>2</td>\n",
       "      <td>1996</td>\n",
       "      <td>172.0</td>\n",
       "      <td>1</td>\n",
       "      <td>427000.0</td>\n",
       "      <td>...</td>\n",
       "      <td>0</td>\n",
       "      <td>0</td>\n",
       "      <td>0</td>\n",
       "      <td>0</td>\n",
       "      <td>0</td>\n",
       "      <td>0</td>\n",
       "      <td>0</td>\n",
       "      <td>0</td>\n",
       "      <td>0</td>\n",
       "      <td>1</td>\n",
       "    </tr>\n",
       "  </tbody>\n",
       "</table>\n",
       "<p>1 rows × 63 columns</p>\n",
       "</div>"
      ],
      "text/plain": [
       "      Bedrms  Sold Price  Baths Full  List Price  Tax Amount  Total Parking  \\\n",
       "2266       3    442000.0           2    449900.0      2532.0              2   \n",
       "\n",
       "      Yr Built  Tot Flr Area AG Metres  Baths Half  Median assessed value  \\\n",
       "2266      1996                   172.0           1               427000.0   \n",
       "\n",
       "               ...             Building_Single Wide  Construction_Brick  \\\n",
       "2266           ...                                0                   0   \n",
       "\n",
       "      Construction_Concrete  Construction_Concrete Block  \\\n",
       "2266                      0                            0   \n",
       "\n",
       "      Construction_Concrete Insulated  Construction_Log  Construction_Modular  \\\n",
       "2266                                0                 0                     0   \n",
       "\n",
       "      Construction_Prefab  Construction_Steel Frame  Construction_Wood Frame  \n",
       "2266                    0                         0                        1  \n",
       "\n",
       "[1 rows x 63 columns]"
      ]
     },
     "execution_count": 101,
     "metadata": {},
     "output_type": "execute_result"
    }
   ],
   "source": [
    "df_tc.loc[[2266]]  #[\"Total Parking\"]"
   ]
  },
  {
   "cell_type": "code",
   "execution_count": 102,
   "metadata": {
    "collapsed": true
   },
   "outputs": [],
   "source": [
    "#df_tc.sort_values(\"Beds Total\", ascending = [\"0\"])[\"Beds Total\"]"
   ]
  },
  {
   "cell_type": "code",
   "execution_count": 103,
   "metadata": {},
   "outputs": [
    {
     "data": {
      "text/plain": [
       "20011     0\n",
       "16544     0\n",
       "9159      0\n",
       "11714     0\n",
       "12361     0\n",
       "12956     0\n",
       "15051     0\n",
       "5992      0\n",
       "8458      0\n",
       "9776      0\n",
       "4412      0\n",
       "1614      0\n",
       "18694     0\n",
       "18366     0\n",
       "5371      0\n",
       "15027     0\n",
       "12411     0\n",
       "4351      0\n",
       "17958     0\n",
       "8531      0\n",
       "9831      0\n",
       "3919      0\n",
       "14105     0\n",
       "8474      0\n",
       "12859     0\n",
       "8418      0\n",
       "18394     0\n",
       "13487     0\n",
       "6537      0\n",
       "8291      0\n",
       "         ..\n",
       "4272      5\n",
       "2531      5\n",
       "19706     5\n",
       "6571      5\n",
       "8937      5\n",
       "18896     6\n",
       "8965      6\n",
       "1182      6\n",
       "800       6\n",
       "9277      6\n",
       "17743     6\n",
       "4676      6\n",
       "14505     6\n",
       "11488     6\n",
       "11487     6\n",
       "19240     6\n",
       "17226     6\n",
       "13447     6\n",
       "4675      6\n",
       "932       6\n",
       "18541     7\n",
       "3641      7\n",
       "20009     7\n",
       "10402     7\n",
       "15166     7\n",
       "14620     7\n",
       "11827     7\n",
       "10403     7\n",
       "7004      7\n",
       "12277    12\n",
       "Name: Baths Full, Length: 20210, dtype: int64"
      ]
     },
     "execution_count": 103,
     "metadata": {},
     "output_type": "execute_result"
    }
   ],
   "source": [
    "df_tc.sort_values(\"Baths Full\", ascending = [\"0\"])[\"Baths Full\"]"
   ]
  },
  {
   "cell_type": "code",
   "execution_count": 104,
   "metadata": {
    "collapsed": true
   },
   "outputs": [],
   "source": [
    "df_tc = df_tc.drop(df_tc[df_tc[\"Baths Full\"] == 12].index)"
   ]
  },
  {
   "cell_type": "code",
   "execution_count": 105,
   "metadata": {
    "collapsed": true
   },
   "outputs": [],
   "source": [
    "#mls_ready.csv: input to machine learning model\n",
    "df_tc.to_csv(\"./data/mls_ready.csv\", encoding='utf-8', index=False)"
   ]
  },
  {
   "cell_type": "code",
   "execution_count": 106,
   "metadata": {},
   "outputs": [
    {
     "data": {
      "text/plain": [
       "'\\nmsk = np.random.rand(len(df_tc)) < 0.8\\ndf_train = df_tc[msk]\\ndf_test = df_tc[~msk]\\n\\nmsk_vt = np.random.rand(len(df_test)) < 0.5\\ndf_dev = df_test[msk_vt]\\ndf_test = df_test[~msk_vt]\\n'"
      ]
     },
     "execution_count": 106,
     "metadata": {},
     "output_type": "execute_result"
    }
   ],
   "source": [
    "from sklearn.model_selection import train_test_split\n",
    "\n",
    "df_train, df_test = train_test_split(df_tc, test_size=0.2)\n",
    "\n",
    "df_dev, df_test = train_test_split(df_test, test_size=0.5)\n",
    "\"\"\"\n",
    "msk = np.random.rand(len(df_tc)) < 0.8\n",
    "df_train = df_tc[msk]\n",
    "df_test = df_tc[~msk]\n",
    "\n",
    "msk_vt = np.random.rand(len(df_test)) < 0.5\n",
    "df_dev = df_test[msk_vt]\n",
    "df_test = df_test[~msk_vt]\n",
    "\"\"\""
   ]
  },
  {
   "cell_type": "code",
   "execution_count": 107,
   "metadata": {},
   "outputs": [
    {
     "name": "stdout",
     "output_type": "stream",
     "text": [
      "(16167, 63)\n",
      "(2021, 63)\n",
      "(2021, 63)\n"
     ]
    }
   ],
   "source": [
    "print(df_train.shape)\n",
    "print(df_dev.shape)\n",
    "print(df_test.shape)"
   ]
  },
  {
   "cell_type": "code",
   "execution_count": 108,
   "metadata": {
    "collapsed": true
   },
   "outputs": [],
   "source": [
    "df_train.to_csv(\"./data/mls_train.csv\", encoding='utf-8', index=False)\n",
    "df_dev.to_csv(\"./data/mls_dev.csv\", encoding='utf-8', index=False)\n",
    "df_test.to_csv(\"./data/mls_test.csv\", encoding='utf-8', index=False)"
   ]
  }
 ],
 "metadata": {
  "kernelspec": {
   "display_name": "Python 3",
   "language": "python",
   "name": "python3"
  },
  "language_info": {
   "codemirror_mode": {
    "name": "ipython",
    "version": 3
   },
   "file_extension": ".py",
   "mimetype": "text/x-python",
   "name": "python",
   "nbconvert_exporter": "python",
   "pygments_lexer": "ipython3",
   "version": "3.6.0"
  }
 },
 "nbformat": 4,
 "nbformat_minor": 2
}
